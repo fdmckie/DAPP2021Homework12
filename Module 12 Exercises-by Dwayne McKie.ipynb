{
 "cells": [
  {
   "cell_type": "markdown",
   "metadata": {},
   "source": [
    "# Module 12: Descriptive Statistics & Outliers - Exercises"
   ]
  },
  {
   "cell_type": "markdown",
   "metadata": {},
   "source": [
    "#### 1. Import the \"DC_Properties_1.xlsx\" dataset. Before the import, you will need to import the typical libraries. Call this dataset \"df\". Review the \"DC Property Column Descriptions\" document saved to canvas to better understand the columns within the dataset. \n",
    "\n",
    "<b>NOTE</b>: this file is very large, it may take longer than usual to import. "
   ]
  },
  {
   "cell_type": "code",
   "execution_count": 1,
   "metadata": {},
   "outputs": [],
   "source": [
    "# import the pandas, numpy, statistics, scipy.stats Python libraries...\n",
    "\n",
    "\n",
    "import pandas as pd\n",
    "import numpy as np\n",
    "import statistics\n",
    "import scipy.stats as stats\n",
    "\n"
   ]
  },
  {
   "cell_type": "code",
   "execution_count": 2,
   "metadata": {},
   "outputs": [],
   "source": [
    "# import the \"DC_Properties_1\" Excel file into a dataframe with the variable name \"df\"...\n",
    "\n",
    "df = pd.read_excel(\"datasets/DC_Properties_1.xlsx\")"
   ]
  },
  {
   "cell_type": "markdown",
   "metadata": {},
   "source": [
    "#### 2. Preview the first 5 rows of the dataset. In a new cell, output the list of column headers for the dataset. "
   ]
  },
  {
   "cell_type": "code",
   "execution_count": 3,
   "metadata": {},
   "outputs": [
    {
     "data": {
      "text/html": [
       "<div>\n",
       "<style scoped>\n",
       "    .dataframe tbody tr th:only-of-type {\n",
       "        vertical-align: middle;\n",
       "    }\n",
       "\n",
       "    .dataframe tbody tr th {\n",
       "        vertical-align: top;\n",
       "    }\n",
       "\n",
       "    .dataframe thead th {\n",
       "        text-align: right;\n",
       "    }\n",
       "</style>\n",
       "<table border=\"1\" class=\"dataframe\">\n",
       "  <thead>\n",
       "    <tr style=\"text-align: right;\">\n",
       "      <th></th>\n",
       "      <th>BATHRM</th>\n",
       "      <th>HF_BATHRM</th>\n",
       "      <th>HEAT</th>\n",
       "      <th>AC</th>\n",
       "      <th>ROOMS</th>\n",
       "      <th>BEDRM</th>\n",
       "      <th>YR_BUILT</th>\n",
       "      <th>YR_RMDL</th>\n",
       "      <th>STORIES</th>\n",
       "      <th>SALEDATE</th>\n",
       "      <th>...</th>\n",
       "      <th>INTWALL</th>\n",
       "      <th>KITCHENS</th>\n",
       "      <th>FIREPLACES</th>\n",
       "      <th>LANDAREA</th>\n",
       "      <th>FULLADDRESS</th>\n",
       "      <th>CITY</th>\n",
       "      <th>STATE</th>\n",
       "      <th>ZIPCODE</th>\n",
       "      <th>WARD</th>\n",
       "      <th>QUADRANT</th>\n",
       "    </tr>\n",
       "  </thead>\n",
       "  <tbody>\n",
       "    <tr>\n",
       "      <th>0</th>\n",
       "      <td>4</td>\n",
       "      <td>0</td>\n",
       "      <td>Warm Cool</td>\n",
       "      <td>Y</td>\n",
       "      <td>8</td>\n",
       "      <td>4</td>\n",
       "      <td>1910.0</td>\n",
       "      <td>1988.0</td>\n",
       "      <td>3.0</td>\n",
       "      <td>2003-11-25</td>\n",
       "      <td>...</td>\n",
       "      <td>Hardwood</td>\n",
       "      <td>2.0</td>\n",
       "      <td>5</td>\n",
       "      <td>1680</td>\n",
       "      <td>1748 SWANN STREET NW</td>\n",
       "      <td>WASHINGTON</td>\n",
       "      <td>DC</td>\n",
       "      <td>20009.0</td>\n",
       "      <td>Ward 2</td>\n",
       "      <td>NW</td>\n",
       "    </tr>\n",
       "    <tr>\n",
       "      <th>1</th>\n",
       "      <td>3</td>\n",
       "      <td>1</td>\n",
       "      <td>Warm Cool</td>\n",
       "      <td>Y</td>\n",
       "      <td>11</td>\n",
       "      <td>5</td>\n",
       "      <td>1898.0</td>\n",
       "      <td>2007.0</td>\n",
       "      <td>3.0</td>\n",
       "      <td>2000-08-17</td>\n",
       "      <td>...</td>\n",
       "      <td>Hardwood</td>\n",
       "      <td>2.0</td>\n",
       "      <td>4</td>\n",
       "      <td>1680</td>\n",
       "      <td>1746 SWANN STREET NW</td>\n",
       "      <td>WASHINGTON</td>\n",
       "      <td>DC</td>\n",
       "      <td>20009.0</td>\n",
       "      <td>Ward 2</td>\n",
       "      <td>NW</td>\n",
       "    </tr>\n",
       "    <tr>\n",
       "      <th>2</th>\n",
       "      <td>3</td>\n",
       "      <td>1</td>\n",
       "      <td>Hot Water Rad</td>\n",
       "      <td>Y</td>\n",
       "      <td>9</td>\n",
       "      <td>5</td>\n",
       "      <td>1910.0</td>\n",
       "      <td>2009.0</td>\n",
       "      <td>3.0</td>\n",
       "      <td>2016-06-21</td>\n",
       "      <td>...</td>\n",
       "      <td>Hardwood</td>\n",
       "      <td>2.0</td>\n",
       "      <td>4</td>\n",
       "      <td>1680</td>\n",
       "      <td>1744 SWANN STREET NW</td>\n",
       "      <td>WASHINGTON</td>\n",
       "      <td>DC</td>\n",
       "      <td>20009.0</td>\n",
       "      <td>Ward 2</td>\n",
       "      <td>NW</td>\n",
       "    </tr>\n",
       "    <tr>\n",
       "      <th>3</th>\n",
       "      <td>3</td>\n",
       "      <td>1</td>\n",
       "      <td>Hot Water Rad</td>\n",
       "      <td>Y</td>\n",
       "      <td>8</td>\n",
       "      <td>5</td>\n",
       "      <td>1900.0</td>\n",
       "      <td>2003.0</td>\n",
       "      <td>3.0</td>\n",
       "      <td>2006-07-12</td>\n",
       "      <td>...</td>\n",
       "      <td>Hardwood</td>\n",
       "      <td>2.0</td>\n",
       "      <td>3</td>\n",
       "      <td>1680</td>\n",
       "      <td>1742 SWANN STREET NW</td>\n",
       "      <td>WASHINGTON</td>\n",
       "      <td>DC</td>\n",
       "      <td>20009.0</td>\n",
       "      <td>Ward 2</td>\n",
       "      <td>NW</td>\n",
       "    </tr>\n",
       "    <tr>\n",
       "      <th>4</th>\n",
       "      <td>2</td>\n",
       "      <td>1</td>\n",
       "      <td>Warm Cool</td>\n",
       "      <td>Y</td>\n",
       "      <td>11</td>\n",
       "      <td>3</td>\n",
       "      <td>1913.0</td>\n",
       "      <td>2012.0</td>\n",
       "      <td>3.0</td>\n",
       "      <td>NaT</td>\n",
       "      <td>...</td>\n",
       "      <td>Hardwood</td>\n",
       "      <td>1.0</td>\n",
       "      <td>0</td>\n",
       "      <td>2032</td>\n",
       "      <td>1804 NEW HAMPSHIRE AVENUE NW</td>\n",
       "      <td>WASHINGTON</td>\n",
       "      <td>DC</td>\n",
       "      <td>20009.0</td>\n",
       "      <td>Ward 2</td>\n",
       "      <td>NW</td>\n",
       "    </tr>\n",
       "  </tbody>\n",
       "</table>\n",
       "<p>5 rows × 26 columns</p>\n",
       "</div>"
      ],
      "text/plain": [
       "   BATHRM  HF_BATHRM           HEAT AC  ROOMS  BEDRM  YR_BUILT  YR_RMDL  \\\n",
       "0       4          0      Warm Cool  Y      8      4    1910.0   1988.0   \n",
       "1       3          1      Warm Cool  Y     11      5    1898.0   2007.0   \n",
       "2       3          1  Hot Water Rad  Y      9      5    1910.0   2009.0   \n",
       "3       3          1  Hot Water Rad  Y      8      5    1900.0   2003.0   \n",
       "4       2          1      Warm Cool  Y     11      3    1913.0   2012.0   \n",
       "\n",
       "   STORIES   SALEDATE  ...   INTWALL KITCHENS FIREPLACES LANDAREA  \\\n",
       "0      3.0 2003-11-25  ...  Hardwood      2.0          5     1680   \n",
       "1      3.0 2000-08-17  ...  Hardwood      2.0          4     1680   \n",
       "2      3.0 2016-06-21  ...  Hardwood      2.0          4     1680   \n",
       "3      3.0 2006-07-12  ...  Hardwood      2.0          3     1680   \n",
       "4      3.0        NaT  ...  Hardwood      1.0          0     2032   \n",
       "\n",
       "                    FULLADDRESS        CITY STATE  ZIPCODE    WARD  QUADRANT  \n",
       "0          1748 SWANN STREET NW  WASHINGTON    DC  20009.0  Ward 2        NW  \n",
       "1          1746 SWANN STREET NW  WASHINGTON    DC  20009.0  Ward 2        NW  \n",
       "2          1744 SWANN STREET NW  WASHINGTON    DC  20009.0  Ward 2        NW  \n",
       "3          1742 SWANN STREET NW  WASHINGTON    DC  20009.0  Ward 2        NW  \n",
       "4  1804 NEW HAMPSHIRE AVENUE NW  WASHINGTON    DC  20009.0  Ward 2        NW  \n",
       "\n",
       "[5 rows x 26 columns]"
      ]
     },
     "execution_count": 3,
     "metadata": {},
     "output_type": "execute_result"
    }
   ],
   "source": [
    "# use the \"head\"  function to view the first 5 rows of the \"df\" dataset...\n",
    "\n",
    "df.head()"
   ]
  },
  {
   "cell_type": "code",
   "execution_count": 4,
   "metadata": {},
   "outputs": [
    {
     "name": "stdout",
     "output_type": "stream",
     "text": [
      "['BATHRM', 'HF_BATHRM', 'HEAT', 'AC', 'ROOMS', 'BEDRM', 'YR_BUILT', 'YR_RMDL', 'STORIES', 'SALEDATE', 'PRICE', 'STYLE', 'STRUCT', 'CNDTN', 'EXTWALL', 'ROOF', 'INTWALL', 'KITCHENS', 'FIREPLACES', 'LANDAREA', 'FULLADDRESS', 'CITY', 'STATE', 'ZIPCODE', 'WARD', 'QUADRANT']\n"
     ]
    }
   ],
   "source": [
    "# use the \"list\" & \"print\" functions to display the list of column names of the \"df\" dataset...\n",
    "\n",
    "print(list(df))"
   ]
  },
  {
   "cell_type": "markdown",
   "metadata": {},
   "source": [
    "#### 3. Print the shape of the dataset. How many rows and columns are in this dataset?"
   ]
  },
  {
   "cell_type": "code",
   "execution_count": 5,
   "metadata": {},
   "outputs": [
    {
     "name": "stdout",
     "output_type": "stream",
     "text": [
      "(158957, 26)\n"
     ]
    }
   ],
   "source": [
    "# use the \"shape\" & \"print\" functions to display the number of rows & columns in the \"df\" dataset...\n",
    "\n",
    "print(df.shape)"
   ]
  },
  {
   "cell_type": "code",
   "execution_count": null,
   "metadata": {},
   "outputs": [],
   "source": [
    "# there are 158,957 rows & 26 columns in this dataset..."
   ]
  },
  {
   "cell_type": "markdown",
   "metadata": {},
   "source": [
    "#### 4. Write the code to output meta-information about the dataset. This includes the name of the columns, the amount of non-null data in each column, etc. Take note of the column types and the columns that have any missing data. "
   ]
  },
  {
   "cell_type": "code",
   "execution_count": 6,
   "metadata": {},
   "outputs": [
    {
     "name": "stdout",
     "output_type": "stream",
     "text": [
      "<class 'pandas.core.frame.DataFrame'>\n",
      "RangeIndex: 158957 entries, 0 to 158956\n",
      "Data columns (total 26 columns):\n",
      " #   Column       Non-Null Count   Dtype         \n",
      "---  ------       --------------   -----         \n",
      " 0   BATHRM       158957 non-null  int64         \n",
      " 1   HF_BATHRM    158957 non-null  int64         \n",
      " 2   HEAT         158957 non-null  object        \n",
      " 3   AC           158957 non-null  object        \n",
      " 4   ROOMS        158957 non-null  int64         \n",
      " 5   BEDRM        158957 non-null  int64         \n",
      " 6   YR_BUILT     158686 non-null  float64       \n",
      " 7   YR_RMDL      80928 non-null   float64       \n",
      " 8   STORIES      106652 non-null  float64       \n",
      " 9   SALEDATE     132187 non-null  datetime64[ns]\n",
      " 10  PRICE        98216 non-null   float64       \n",
      " 11  STYLE        106696 non-null  object        \n",
      " 12  STRUCT       106696 non-null  object        \n",
      " 13  CNDTN        106696 non-null  object        \n",
      " 14  EXTWALL      106696 non-null  object        \n",
      " 15  ROOF         106696 non-null  object        \n",
      " 16  INTWALL      106696 non-null  object        \n",
      " 17  KITCHENS     106695 non-null  float64       \n",
      " 18  FIREPLACES   158957 non-null  int64         \n",
      " 19  LANDAREA     158957 non-null  int64         \n",
      " 20  FULLADDRESS  106040 non-null  object        \n",
      " 21  CITY         106051 non-null  object        \n",
      " 22  STATE        106051 non-null  object        \n",
      " 23  ZIPCODE      158956 non-null  float64       \n",
      " 24  WARD         158956 non-null  object        \n",
      " 25  QUADRANT     158720 non-null  object        \n",
      "dtypes: datetime64[ns](1), float64(6), int64(6), object(13)\n",
      "memory usage: 31.5+ MB\n"
     ]
    }
   ],
   "source": [
    "# use the \"info\" function to display meta-information about the \"df\" dataset...\n",
    "# this includes the number of rows in the dataset, the number of columns in the dataset, \n",
    "# the names of each column, the data type(s) of each column, and the amount of non-null data in each column...\n",
    "\n",
    "df.info()"
   ]
  },
  {
   "cell_type": "code",
   "execution_count": null,
   "metadata": {},
   "outputs": [],
   "source": []
  },
  {
   "cell_type": "markdown",
   "metadata": {},
   "source": [
    "#### 5. Use the appropriate function to determine which columns have missing data. Which column has the most missing values?"
   ]
  },
  {
   "cell_type": "code",
   "execution_count": 7,
   "metadata": {},
   "outputs": [
    {
     "data": {
      "text/plain": [
       "BATHRM             0\n",
       "HF_BATHRM          0\n",
       "HEAT               0\n",
       "AC                 0\n",
       "ROOMS              0\n",
       "BEDRM              0\n",
       "YR_BUILT         271\n",
       "YR_RMDL        78029\n",
       "STORIES        52305\n",
       "SALEDATE       26770\n",
       "PRICE          60741\n",
       "STYLE          52261\n",
       "STRUCT         52261\n",
       "CNDTN          52261\n",
       "EXTWALL        52261\n",
       "ROOF           52261\n",
       "INTWALL        52261\n",
       "KITCHENS       52262\n",
       "FIREPLACES         0\n",
       "LANDAREA           0\n",
       "FULLADDRESS    52917\n",
       "CITY           52906\n",
       "STATE          52906\n",
       "ZIPCODE            1\n",
       "WARD               1\n",
       "QUADRANT         237\n",
       "dtype: int64"
      ]
     },
     "execution_count": 7,
     "metadata": {},
     "output_type": "execute_result"
    }
   ],
   "source": [
    "# use the \"isnull\" & \"sum\" functions to determine and display the number of missing data/values in each column...\n",
    "\n",
    "df.isnull().sum()"
   ]
  },
  {
   "cell_type": "code",
   "execution_count": null,
   "metadata": {},
   "outputs": [],
   "source": [
    "# the \"YR_RMDL\" column has the most missing values..."
   ]
  },
  {
   "cell_type": "markdown",
   "metadata": {},
   "source": [
    "#### 6. Use the information you've learned about handling missing data to deal with the missing data in this dataset. Create a copy of the original dataset that does not include any missing values. Call this new dataset \"df2\". You should use this dataset to answer the remaining questions in this assignment. "
   ]
  },
  {
   "cell_type": "code",
   "execution_count": 8,
   "metadata": {},
   "outputs": [],
   "source": [
    "# use the \"dropna\" function to create a dataset, named \"df2\", that will contain data from dataset \"df1\" \n",
    "# with no missing data...\n",
    "\n",
    "df2 = df.dropna()\n"
   ]
  },
  {
   "cell_type": "code",
   "execution_count": 9,
   "metadata": {},
   "outputs": [
    {
     "data": {
      "text/plain": [
       "BATHRM         0\n",
       "HF_BATHRM      0\n",
       "HEAT           0\n",
       "AC             0\n",
       "ROOMS          0\n",
       "BEDRM          0\n",
       "YR_BUILT       0\n",
       "YR_RMDL        0\n",
       "STORIES        0\n",
       "SALEDATE       0\n",
       "PRICE          0\n",
       "STYLE          0\n",
       "STRUCT         0\n",
       "CNDTN          0\n",
       "EXTWALL        0\n",
       "ROOF           0\n",
       "INTWALL        0\n",
       "KITCHENS       0\n",
       "FIREPLACES     0\n",
       "LANDAREA       0\n",
       "FULLADDRESS    0\n",
       "CITY           0\n",
       "STATE          0\n",
       "ZIPCODE        0\n",
       "WARD           0\n",
       "QUADRANT       0\n",
       "dtype: int64"
      ]
     },
     "execution_count": 9,
     "metadata": {},
     "output_type": "execute_result"
    }
   ],
   "source": [
    "# use the \"isnull\" & \"sum\" functions to confirm that there is no missing data/values in the \"df2\" dataset...\n",
    "\n",
    "df2.isnull().sum()"
   ]
  },
  {
   "cell_type": "markdown",
   "metadata": {},
   "source": [
    "#### 7. Using your clean dataset, determine the frequency of unique groups for the following columns:\n",
    "    * Heat, AC, Year Built, Year Remodeled, Stories, Style, Structure, Condition, Exterior Wall, Roof, Interior Wall, and Quadrant.   "
   ]
  },
  {
   "cell_type": "code",
   "execution_count": 10,
   "metadata": {},
   "outputs": [
    {
     "data": {
      "text/plain": [
       "Forced Air        14175\n",
       "Hot Water Rad     10277\n",
       "Warm Cool          7742\n",
       "Ht Pump             565\n",
       "Water Base Brd       62\n",
       "Wall Furnace         40\n",
       "Elec Base Brd        36\n",
       "Electric Rad         22\n",
       "Gravity Furnac       17\n",
       "Air-Oil              17\n",
       "Air Exchng            8\n",
       "Evp Cool              8\n",
       "No Data               5\n",
       "Ind Unit              5\n",
       "Name: HEAT, dtype: int64"
      ]
     },
     "execution_count": 10,
     "metadata": {},
     "output_type": "execute_result"
    }
   ],
   "source": [
    "# use the \"value_counts\" function to see the unique values in the \"HEAT\" column...also, display the sum of the \n",
    "# unique values...\n",
    "\n",
    "df2[\"HEAT\"].value_counts()"
   ]
  },
  {
   "cell_type": "code",
   "execution_count": 11,
   "metadata": {},
   "outputs": [
    {
     "data": {
      "text/plain": [
       "Y    27694\n",
       "N     5277\n",
       "0        8\n",
       "Name: AC, dtype: int64"
      ]
     },
     "execution_count": 11,
     "metadata": {},
     "output_type": "execute_result"
    }
   ],
   "source": [
    "# use the \"value_counts\" function to see the unique values in the \"AC\" column...also, display the sum of the \n",
    "# unique values...\n",
    "\n",
    "df2[\"AC\"].value_counts()"
   ]
  },
  {
   "cell_type": "code",
   "execution_count": 12,
   "metadata": {},
   "outputs": [
    {
     "data": {
      "text/plain": [
       "1900.0    3301\n",
       "1925.0    1527\n",
       "1910.0    1333\n",
       "1923.0    1057\n",
       "1927.0     997\n",
       "          ... \n",
       "1859.0       1\n",
       "1858.0       1\n",
       "1780.0       1\n",
       "1835.0       1\n",
       "1803.0       1\n",
       "Name: YR_BUILT, Length: 193, dtype: int64"
      ]
     },
     "execution_count": 12,
     "metadata": {},
     "output_type": "execute_result"
    }
   ],
   "source": [
    "# use the \"value_counts\" function to see the unique values in the \"YR_BUILT\" column...also, display the sum of the \n",
    "# unique values...\n",
    "\n",
    "df2[\"YR_BUILT\"].value_counts()"
   ]
  },
  {
   "cell_type": "code",
   "execution_count": 13,
   "metadata": {},
   "outputs": [
    {
     "data": {
      "text/plain": [
       "2011.0    1941\n",
       "2010.0    1860\n",
       "2013.0    1817\n",
       "2012.0    1796\n",
       "2004.0    1760\n",
       "          ... \n",
       "1880.0       1\n",
       "1920.0       1\n",
       "1928.0       1\n",
       "1932.0       1\n",
       "1923.0       1\n",
       "Name: YR_RMDL, Length: 101, dtype: int64"
      ]
     },
     "execution_count": 13,
     "metadata": {},
     "output_type": "execute_result"
    }
   ],
   "source": [
    "# use the \"value_counts\" function to see the unique values in the \"YR_RMDL\" column...also, display the sum of the \n",
    "# unique values...\n",
    "\n",
    "df2[\"YR_RMDL\"].value_counts()"
   ]
  },
  {
   "cell_type": "code",
   "execution_count": 14,
   "metadata": {},
   "outputs": [
    {
     "data": {
      "text/plain": [
       "2.00      24586\n",
       "3.00       3096\n",
       "2.50       2150\n",
       "1.00        961\n",
       "2.25        776\n",
       "1.50        533\n",
       "1.75        356\n",
       "2.75        185\n",
       "4.00        151\n",
       "1.25         83\n",
       "3.50         33\n",
       "2.70         13\n",
       "3.25         10\n",
       "2.20          7\n",
       "5.00          7\n",
       "9.00          6\n",
       "0.00          6\n",
       "3.75          4\n",
       "6.00          3\n",
       "2.30          3\n",
       "275.00        2\n",
       "1.70          2\n",
       "25.00         2\n",
       "3.70          1\n",
       "826.00        1\n",
       "250.00        1\n",
       "20.00         1\n",
       "Name: STORIES, dtype: int64"
      ]
     },
     "execution_count": 14,
     "metadata": {},
     "output_type": "execute_result"
    }
   ],
   "source": [
    "# use the \"value_counts\" function to see the unique values in the \"STORIES\" column...also, display the sum of the \n",
    "# unique values...\n",
    "\n",
    "df2[\"STORIES\"].value_counts()"
   ]
  },
  {
   "cell_type": "code",
   "execution_count": 15,
   "metadata": {},
   "outputs": [
    {
     "data": {
      "text/plain": [
       "2 Story            25105\n",
       "3 Story             3213\n",
       "2.5 Story Fin       2553\n",
       "1 Story              913\n",
       "1.5 Story Fin        590\n",
       "2.5 Story Unfin      234\n",
       "4 Story              153\n",
       "Split Level           71\n",
       "Split Foyer           49\n",
       "3.5 Story Fin         42\n",
       "1.5 Story Unfin       31\n",
       "Default               14\n",
       "Bi-Level               6\n",
       "3.5 Story Unfin        2\n",
       "Vacant                 1\n",
       "4.5 Story Unfin        1\n",
       "4.5 Story Fin          1\n",
       "Name: STYLE, dtype: int64"
      ]
     },
     "execution_count": 15,
     "metadata": {},
     "output_type": "execute_result"
    }
   ],
   "source": [
    "# use the \"value_counts\" function to see the unique values in the \"STYLE\" column...also, display the sum of the \n",
    "# unique values...\n",
    "\n",
    "df2[\"STYLE\"].value_counts()"
   ]
  },
  {
   "cell_type": "code",
   "execution_count": 16,
   "metadata": {},
   "outputs": [
    {
     "data": {
      "text/plain": [
       "Row Inside       14360\n",
       "Single            9178\n",
       "Semi-Detached     4197\n",
       "Row End           3909\n",
       "Multi             1317\n",
       "Town Inside         12\n",
       "Town End             4\n",
       "Default              2\n",
       "Name: STRUCT, dtype: int64"
      ]
     },
     "execution_count": 16,
     "metadata": {},
     "output_type": "execute_result"
    }
   ],
   "source": [
    "# use the \"value_counts\" function to see the unique values in the \"STRUCT\" column...also, display the sum of the \n",
    "# unique values...\n",
    "\n",
    "df2[\"STRUCT\"].value_counts()"
   ]
  },
  {
   "cell_type": "code",
   "execution_count": 17,
   "metadata": {},
   "outputs": [
    {
     "data": {
      "text/plain": [
       "Good         19544\n",
       "Average       8991\n",
       "Very Good     4254\n",
       "Excellent       91\n",
       "Fair            86\n",
       "Poor            12\n",
       "Default          1\n",
       "Name: CNDTN, dtype: int64"
      ]
     },
     "execution_count": 17,
     "metadata": {},
     "output_type": "execute_result"
    }
   ],
   "source": [
    "# use the \"value_counts\" function to see the unique values in the \"CNDTN\" column...also, display the sum of the \n",
    "# unique values...\n",
    "\n",
    "df2[\"CNDTN\"].value_counts()"
   ]
  },
  {
   "cell_type": "code",
   "execution_count": 18,
   "metadata": {},
   "outputs": [
    {
     "data": {
      "text/plain": [
       "Common Brick      25996\n",
       "Wood Siding        1419\n",
       "Vinyl Siding       1339\n",
       "Brick/Siding       1251\n",
       "Stucco             1059\n",
       "Shingle             292\n",
       "Brick/Stucco        279\n",
       "Brick/Stone         255\n",
       "Aluminum            250\n",
       "Stone               232\n",
       "Brick Veneer        128\n",
       "Stone/Siding        110\n",
       "Stone/Stucco        108\n",
       "Stone Veneer         86\n",
       "Face Brick           48\n",
       "Hardboard            45\n",
       "Concrete             21\n",
       "Concrete Block       19\n",
       "Metal Siding         18\n",
       "Stucco Block         14\n",
       "Default               7\n",
       "Plywood               3\n",
       "Name: EXTWALL, dtype: int64"
      ]
     },
     "execution_count": 18,
     "metadata": {},
     "output_type": "execute_result"
    }
   ],
   "source": [
    "# use the \"value_counts\" function to see the unique values in the \"EXTWALL\" column...also, display the sum of the \n",
    "# unique values...\n",
    "\n",
    "df2[\"EXTWALL\"].value_counts()"
   ]
  },
  {
   "cell_type": "code",
   "execution_count": 19,
   "metadata": {},
   "outputs": [
    {
     "data": {
      "text/plain": [
       "Metal- Sms        10677\n",
       "Built Up          10525\n",
       "Comp Shingle       7038\n",
       "Slate              3394\n",
       "Neopren             667\n",
       "Clay Tile           207\n",
       "Shake               167\n",
       "Shingle             115\n",
       "Metal- Pre           84\n",
       "Typical              48\n",
       "Composition Ro       30\n",
       "Metal- Cpr           17\n",
       "Water Proof           4\n",
       "Wood- FS              3\n",
       "Concrete Tile         3\n",
       "Name: ROOF, dtype: int64"
      ]
     },
     "execution_count": 19,
     "metadata": {},
     "output_type": "execute_result"
    }
   ],
   "source": [
    "# use the \"value_counts\" function to see the unique values in the \"ROOF\" column...also, display the sum of the \n",
    "# unique values...\n",
    "\n",
    "df2[\"ROOF\"].value_counts()"
   ]
  },
  {
   "cell_type": "code",
   "execution_count": 20,
   "metadata": {},
   "outputs": [
    {
     "data": {
      "text/plain": [
       "Hardwood         26240\n",
       "Hardwood/Carp     3523\n",
       "Wood Floor        2504\n",
       "Carpet             635\n",
       "Ceramic Tile        25\n",
       "Lt Concrete         21\n",
       "Default             11\n",
       "Parquet              6\n",
       "Vinyl Comp           5\n",
       "Vinyl Sheet          4\n",
       "Resiliant            4\n",
       "Terrazo              1\n",
       "Name: INTWALL, dtype: int64"
      ]
     },
     "execution_count": 20,
     "metadata": {},
     "output_type": "execute_result"
    }
   ],
   "source": [
    "# use the \"value_counts\" function to see the unique values in the \"INTWALL\" column...also, display the sum of the \n",
    "# unique values...\n",
    "\n",
    "df2[\"INTWALL\"].value_counts()"
   ]
  },
  {
   "cell_type": "code",
   "execution_count": 21,
   "metadata": {},
   "outputs": [
    {
     "data": {
      "text/plain": [
       "NW    17064\n",
       "NE     9753\n",
       "SE     5918\n",
       "SW      244\n",
       "Name: QUADRANT, dtype: int64"
      ]
     },
     "execution_count": 21,
     "metadata": {},
     "output_type": "execute_result"
    }
   ],
   "source": [
    "# use the \"value_counts\" function to see the unique values in the \"QUADRANT\" column...also, display the sum of the \n",
    "# unique values...\n",
    "\n",
    "df2[\"QUADRANT\"].value_counts()"
   ]
  },
  {
   "cell_type": "code",
   "execution_count": null,
   "metadata": {},
   "outputs": [],
   "source": []
  },
  {
   "cell_type": "markdown",
   "metadata": {},
   "source": [
    "#### 8. Use the describe function to output descriptive statistics for the numeric variables in the dataset. Are there any odd values that show up in this list?"
   ]
  },
  {
   "cell_type": "code",
   "execution_count": 22,
   "metadata": {},
   "outputs": [
    {
     "data": {
      "text/html": [
       "<div>\n",
       "<style scoped>\n",
       "    .dataframe tbody tr th:only-of-type {\n",
       "        vertical-align: middle;\n",
       "    }\n",
       "\n",
       "    .dataframe tbody tr th {\n",
       "        vertical-align: top;\n",
       "    }\n",
       "\n",
       "    .dataframe thead th {\n",
       "        text-align: right;\n",
       "    }\n",
       "</style>\n",
       "<table border=\"1\" class=\"dataframe\">\n",
       "  <thead>\n",
       "    <tr style=\"text-align: right;\">\n",
       "      <th></th>\n",
       "      <th>BATHRM</th>\n",
       "      <th>HF_BATHRM</th>\n",
       "      <th>ROOMS</th>\n",
       "      <th>BEDRM</th>\n",
       "      <th>YR_BUILT</th>\n",
       "      <th>YR_RMDL</th>\n",
       "      <th>STORIES</th>\n",
       "      <th>PRICE</th>\n",
       "      <th>KITCHENS</th>\n",
       "      <th>FIREPLACES</th>\n",
       "      <th>LANDAREA</th>\n",
       "      <th>ZIPCODE</th>\n",
       "    </tr>\n",
       "  </thead>\n",
       "  <tbody>\n",
       "    <tr>\n",
       "      <th>count</th>\n",
       "      <td>32979.000000</td>\n",
       "      <td>32979.000000</td>\n",
       "      <td>32979.000000</td>\n",
       "      <td>32979.000000</td>\n",
       "      <td>32979.000000</td>\n",
       "      <td>32979.000000</td>\n",
       "      <td>32979.000000</td>\n",
       "      <td>3.297900e+04</td>\n",
       "      <td>32979.000000</td>\n",
       "      <td>32979.000000</td>\n",
       "      <td>32979.000000</td>\n",
       "      <td>32979.000000</td>\n",
       "    </tr>\n",
       "    <tr>\n",
       "      <th>mean</th>\n",
       "      <td>2.375663</td>\n",
       "      <td>0.682798</td>\n",
       "      <td>7.575336</td>\n",
       "      <td>3.526062</td>\n",
       "      <td>1924.151642</td>\n",
       "      <td>2004.242639</td>\n",
       "      <td>2.159298</td>\n",
       "      <td>6.854156e+05</td>\n",
       "      <td>1.283423</td>\n",
       "      <td>0.758907</td>\n",
       "      <td>3150.510780</td>\n",
       "      <td>20010.235028</td>\n",
       "    </tr>\n",
       "    <tr>\n",
       "      <th>std</th>\n",
       "      <td>1.056258</td>\n",
       "      <td>0.597738</td>\n",
       "      <td>2.329215</td>\n",
       "      <td>1.167389</td>\n",
       "      <td>22.193923</td>\n",
       "      <td>16.679813</td>\n",
       "      <td>5.212966</td>\n",
       "      <td>6.434792e+05</td>\n",
       "      <td>0.672215</td>\n",
       "      <td>0.985923</td>\n",
       "      <td>3280.832554</td>\n",
       "      <td>7.510712</td>\n",
       "    </tr>\n",
       "    <tr>\n",
       "      <th>min</th>\n",
       "      <td>0.000000</td>\n",
       "      <td>0.000000</td>\n",
       "      <td>0.000000</td>\n",
       "      <td>0.000000</td>\n",
       "      <td>1754.000000</td>\n",
       "      <td>20.000000</td>\n",
       "      <td>0.000000</td>\n",
       "      <td>1.000000e+00</td>\n",
       "      <td>0.000000</td>\n",
       "      <td>0.000000</td>\n",
       "      <td>216.000000</td>\n",
       "      <td>20001.000000</td>\n",
       "    </tr>\n",
       "    <tr>\n",
       "      <th>25%</th>\n",
       "      <td>2.000000</td>\n",
       "      <td>0.000000</td>\n",
       "      <td>6.000000</td>\n",
       "      <td>3.000000</td>\n",
       "      <td>1910.000000</td>\n",
       "      <td>2002.000000</td>\n",
       "      <td>2.000000</td>\n",
       "      <td>3.250000e+05</td>\n",
       "      <td>1.000000</td>\n",
       "      <td>0.000000</td>\n",
       "      <td>1468.000000</td>\n",
       "      <td>20003.000000</td>\n",
       "    </tr>\n",
       "    <tr>\n",
       "      <th>50%</th>\n",
       "      <td>2.000000</td>\n",
       "      <td>1.000000</td>\n",
       "      <td>7.000000</td>\n",
       "      <td>3.000000</td>\n",
       "      <td>1924.000000</td>\n",
       "      <td>2008.000000</td>\n",
       "      <td>2.000000</td>\n",
       "      <td>5.680000e+05</td>\n",
       "      <td>1.000000</td>\n",
       "      <td>1.000000</td>\n",
       "      <td>2085.000000</td>\n",
       "      <td>20010.000000</td>\n",
       "    </tr>\n",
       "    <tr>\n",
       "      <th>75%</th>\n",
       "      <td>3.000000</td>\n",
       "      <td>1.000000</td>\n",
       "      <td>9.000000</td>\n",
       "      <td>4.000000</td>\n",
       "      <td>1939.000000</td>\n",
       "      <td>2013.000000</td>\n",
       "      <td>2.000000</td>\n",
       "      <td>8.450000e+05</td>\n",
       "      <td>1.000000</td>\n",
       "      <td>1.000000</td>\n",
       "      <td>3975.000000</td>\n",
       "      <td>20016.000000</td>\n",
       "    </tr>\n",
       "    <tr>\n",
       "      <th>max</th>\n",
       "      <td>11.000000</td>\n",
       "      <td>11.000000</td>\n",
       "      <td>31.000000</td>\n",
       "      <td>20.000000</td>\n",
       "      <td>2015.000000</td>\n",
       "      <td>2019.000000</td>\n",
       "      <td>826.000000</td>\n",
       "      <td>2.396029e+07</td>\n",
       "      <td>44.000000</td>\n",
       "      <td>13.000000</td>\n",
       "      <td>155905.000000</td>\n",
       "      <td>20052.000000</td>\n",
       "    </tr>\n",
       "  </tbody>\n",
       "</table>\n",
       "</div>"
      ],
      "text/plain": [
       "             BATHRM     HF_BATHRM         ROOMS         BEDRM      YR_BUILT  \\\n",
       "count  32979.000000  32979.000000  32979.000000  32979.000000  32979.000000   \n",
       "mean       2.375663      0.682798      7.575336      3.526062   1924.151642   \n",
       "std        1.056258      0.597738      2.329215      1.167389     22.193923   \n",
       "min        0.000000      0.000000      0.000000      0.000000   1754.000000   \n",
       "25%        2.000000      0.000000      6.000000      3.000000   1910.000000   \n",
       "50%        2.000000      1.000000      7.000000      3.000000   1924.000000   \n",
       "75%        3.000000      1.000000      9.000000      4.000000   1939.000000   \n",
       "max       11.000000     11.000000     31.000000     20.000000   2015.000000   \n",
       "\n",
       "            YR_RMDL       STORIES         PRICE      KITCHENS    FIREPLACES  \\\n",
       "count  32979.000000  32979.000000  3.297900e+04  32979.000000  32979.000000   \n",
       "mean    2004.242639      2.159298  6.854156e+05      1.283423      0.758907   \n",
       "std       16.679813      5.212966  6.434792e+05      0.672215      0.985923   \n",
       "min       20.000000      0.000000  1.000000e+00      0.000000      0.000000   \n",
       "25%     2002.000000      2.000000  3.250000e+05      1.000000      0.000000   \n",
       "50%     2008.000000      2.000000  5.680000e+05      1.000000      1.000000   \n",
       "75%     2013.000000      2.000000  8.450000e+05      1.000000      1.000000   \n",
       "max     2019.000000    826.000000  2.396029e+07     44.000000     13.000000   \n",
       "\n",
       "            LANDAREA       ZIPCODE  \n",
       "count   32979.000000  32979.000000  \n",
       "mean     3150.510780  20010.235028  \n",
       "std      3280.832554      7.510712  \n",
       "min       216.000000  20001.000000  \n",
       "25%      1468.000000  20003.000000  \n",
       "50%      2085.000000  20010.000000  \n",
       "75%      3975.000000  20016.000000  \n",
       "max    155905.000000  20052.000000  "
      ]
     },
     "execution_count": 22,
     "metadata": {},
     "output_type": "execute_result"
    }
   ],
   "source": [
    "# use the \"describe\" function to display/show the descriptive statistics for the numeric variables \n",
    "# in the \"df2\" dataset...\n",
    "\n",
    "df2.describe()"
   ]
  },
  {
   "cell_type": "code",
   "execution_count": null,
   "metadata": {},
   "outputs": [],
   "source": [
    "# the \"max\" value for the \"STORIES\" column is 826...that seems to be an data entry error, since no building, by law, \n",
    "# can be taller # than 130 feet (commercial streets) and 90 feet (residential streets), and 160 feet for parts of \n",
    "# Pennsylvania Avenue, NW...\n",
    "\n",
    "# the \"mean\" (1924.151642) and \"median\" (1924.000000) values for the \"YR_BUILT\" column are close...not a large \n",
    "# amount of new construction have commenced in recent years...\n",
    "\n",
    "# the \"min\" value for \"PRICE\" is 1...highly doubtful that any property is actually worth $1...\n",
    "\n",
    "# the \"max\" value for \"KITCHENS\" is 44..."
   ]
  },
  {
   "cell_type": "markdown",
   "metadata": {},
   "source": [
    "#### 9. Select one of the following columns: \n",
    "        \n",
    "        - Land Area \n",
    "        - Price\n",
    "        - Rooms\n",
    "   #### Working with this column, calculate the mean, median, and mode. "
   ]
  },
  {
   "cell_type": "code",
   "execution_count": 24,
   "metadata": {},
   "outputs": [
    {
     "data": {
      "text/plain": [
       "3150.51077958701"
      ]
     },
     "execution_count": 24,
     "metadata": {},
     "output_type": "execute_result"
    }
   ],
   "source": [
    "# use the \"mean\" function to determine the average value for the \"LANDAREA\" column in the \"df2\" dataset...\n",
    "\n",
    "df2[\"LANDAREA\"].mean()"
   ]
  },
  {
   "cell_type": "code",
   "execution_count": null,
   "metadata": {},
   "outputs": [],
   "source": [
    "# the mean (average) for the values in the \"LANDAREA\" column is 3150.51077958701 square feet..."
   ]
  },
  {
   "cell_type": "code",
   "execution_count": 23,
   "metadata": {},
   "outputs": [
    {
     "data": {
      "text/plain": [
       "2085.0"
      ]
     },
     "execution_count": 23,
     "metadata": {},
     "output_type": "execute_result"
    }
   ],
   "source": [
    "# use the \"median\" function to determine the middle value for the \"LANDAREA\" column in the \"df2\" dataset...\n",
    "\n",
    "df2[\"LANDAREA\"].median()"
   ]
  },
  {
   "cell_type": "code",
   "execution_count": null,
   "metadata": {},
   "outputs": [],
   "source": [
    "# the median for the values in the \"LANDAREA\" column is 2085.0 square feet..."
   ]
  },
  {
   "cell_type": "code",
   "execution_count": 25,
   "metadata": {},
   "outputs": [
    {
     "data": {
      "text/plain": [
       "0    1800\n",
       "dtype: int64"
      ]
     },
     "execution_count": 25,
     "metadata": {},
     "output_type": "execute_result"
    }
   ],
   "source": [
    "# use the \"mode\" function to determine the value with the most occurences for the \"LANDAREA\" column\n",
    "# in the \"df2\" dataset...\n",
    "\n",
    "df2[\"LANDAREA\"].mode()"
   ]
  },
  {
   "cell_type": "code",
   "execution_count": null,
   "metadata": {},
   "outputs": [],
   "source": [
    "# the mode (the largest number of occurences) for the \"LANDAREA\" column is 1800 square feet..."
   ]
  },
  {
   "cell_type": "code",
   "execution_count": 26,
   "metadata": {},
   "outputs": [
    {
     "data": {
      "text/plain": [
       "1800    355\n",
       "2000    335\n",
       "1600    265\n",
       "5000    239\n",
       "1500    215\n",
       "       ... \n",
       "3535      1\n",
       "9706      1\n",
       "5644      1\n",
       "9770      1\n",
       "2047      1\n",
       "Name: LANDAREA, Length: 6891, dtype: int64"
      ]
     },
     "execution_count": 26,
     "metadata": {},
     "output_type": "execute_result"
    }
   ],
   "source": [
    "df2[\"LANDAREA\"].value_counts()"
   ]
  },
  {
   "cell_type": "code",
   "execution_count": null,
   "metadata": {},
   "outputs": [],
   "source": [
    "# to see the amount of occurences of the value \"1800\" in the \"LANDAREA\" column, the \"value_counts\" function\n",
    "# was used...it occurs 355 times..."
   ]
  },
  {
   "cell_type": "markdown",
   "metadata": {},
   "source": [
    "#### 10. Select one of the following columns: \n",
    "        \n",
    "        - Land Area \n",
    "        - Price\n",
    "        - Rooms\n",
    "   #### Working with this column, calculate the range, standard deviation, and first and third quartiles. "
   ]
  },
  {
   "cell_type": "code",
   "execution_count": 28,
   "metadata": {},
   "outputs": [
    {
     "name": "stdout",
     "output_type": "stream",
     "text": [
      "23960287.0\n",
      "1.0\n"
     ]
    }
   ],
   "source": [
    "# in order to determine the \"range\" of values in the \"PRICE\" column, first, the \"max\" and \"min\" values from the\n",
    "# \"PRICE\" column is needed...\n",
    "\n",
    "# use the \"max\" function to find the maximum value in the \"PRICE\" column...\n",
    "# the variable \"price_max\" will store the maximum value...\n",
    "\n",
    "# use the \"min\" function to find the maximum value in the \"PRICE\" column...\n",
    "# the variable \"price_min\" will store the minimum value...\n",
    "\n",
    "# use the \"print\" function to display the minimum and maximum values...\n",
    "\n",
    "price_max = (df2[\"PRICE\"].max())\n",
    "price_min = (df2[\"PRICE\"].min())\n",
    "print(price_max)\n",
    "print(price_min)"
   ]
  },
  {
   "cell_type": "code",
   "execution_count": null,
   "metadata": {},
   "outputs": [],
   "source": [
    "# the \"max\" value in the \"PRICE\" column is $23,960,287.0\n",
    "# the \"min\" value in the \"PRICE\" column is $1.0"
   ]
  },
  {
   "cell_type": "code",
   "execution_count": 29,
   "metadata": {},
   "outputs": [
    {
     "name": "stdout",
     "output_type": "stream",
     "text": [
      "23960286.0\n"
     ]
    }
   ],
   "source": [
    "# the \"range\" of values in the \"PRICE\" column is the maximum value minus the minimum value...\n",
    "# range = maximum value - minimum value...\n",
    "\n",
    "# the variable named \"price_range\" will store the value of the range for the \"PRICE\" column...\n",
    "# use the \"print\" function to display the range...\n",
    "\n",
    "price_range = price_max - price_min\n",
    "print(price_range)"
   ]
  },
  {
   "cell_type": "code",
   "execution_count": null,
   "metadata": {},
   "outputs": [],
   "source": [
    "# the \"range\" of the values from the \"PRICE\" column is $23,960,286.0"
   ]
  },
  {
   "cell_type": "code",
   "execution_count": 30,
   "metadata": {},
   "outputs": [
    {
     "data": {
      "text/plain": [
       "643479.2098126055"
      ]
     },
     "execution_count": 30,
     "metadata": {},
     "output_type": "execute_result"
    }
   ],
   "source": [
    "# use the \"std\" function to determine the standard deviation of values from the \"PRICE\" column...\n",
    "\n",
    "df2[\"PRICE\"].std()"
   ]
  },
  {
   "cell_type": "code",
   "execution_count": null,
   "metadata": {},
   "outputs": [],
   "source": [
    "# the standard deviation of the values from the \"PRICE\" column is 643,479.2098126055"
   ]
  },
  {
   "cell_type": "code",
   "execution_count": 31,
   "metadata": {},
   "outputs": [
    {
     "data": {
      "text/plain": [
       "325000.0"
      ]
     },
     "execution_count": 31,
     "metadata": {},
     "output_type": "execute_result"
    }
   ],
   "source": [
    "# use the \"quantile\" function to determine the 1st quartile for values in the \"PRICE\" column...\n",
    "\n",
    "df2[\"PRICE\"].quantile(.25)"
   ]
  },
  {
   "cell_type": "code",
   "execution_count": 32,
   "metadata": {},
   "outputs": [
    {
     "data": {
      "text/plain": [
       "325000.0"
      ]
     },
     "execution_count": 32,
     "metadata": {},
     "output_type": "execute_result"
    }
   ],
   "source": [
    "## use the \"percentile\" function to determine the 1st quartile for values in the \"PRICE\" column...\n",
    "\n",
    "np.percentile(df2['PRICE'], 25)"
   ]
  },
  {
   "cell_type": "code",
   "execution_count": null,
   "metadata": {},
   "outputs": [],
   "source": [
    "# the value for the 1st quartile of the \"PRICE\" column is $325,000.0"
   ]
  },
  {
   "cell_type": "code",
   "execution_count": 33,
   "metadata": {},
   "outputs": [
    {
     "data": {
      "text/plain": [
       "845000.0"
      ]
     },
     "execution_count": 33,
     "metadata": {},
     "output_type": "execute_result"
    }
   ],
   "source": [
    "# use the \"quantile\" function to determine the 3rd quartile for values in the \"PRICE\" column...\n",
    "\n",
    "df2[\"PRICE\"].quantile(.75)"
   ]
  },
  {
   "cell_type": "code",
   "execution_count": 34,
   "metadata": {},
   "outputs": [
    {
     "data": {
      "text/plain": [
       "845000.0"
      ]
     },
     "execution_count": 34,
     "metadata": {},
     "output_type": "execute_result"
    }
   ],
   "source": [
    "# use the \"percentile\" function to determine the 3rd quartile for values in the \"PRICE\" column...\n",
    "\n",
    "np.percentile(df2['PRICE'], 75)"
   ]
  },
  {
   "cell_type": "code",
   "execution_count": null,
   "metadata": {},
   "outputs": [],
   "source": [
    "# the value for the 3rd quartile of the \"PRICE\" column is $845,000.0"
   ]
  },
  {
   "cell_type": "markdown",
   "metadata": {},
   "source": [
    "#### 11. Select one of the following columns: \n",
    "        \n",
    "        - Land Area \n",
    "        - Price\n",
    "        - Rooms\n",
    "   #### Working with this column, use BOTH outlier detection methods (separately) to identify and remove any outliers. For each method, similar to the Module 5 lesson, create a copy of your dataset (\"df2\"). Are there differences in the number of outliers removed between methods?"
   ]
  },
  {
   "cell_type": "code",
   "execution_count": 34,
   "metadata": {},
   "outputs": [
    {
     "data": {
      "text/html": [
       "<div>\n",
       "<style scoped>\n",
       "    .dataframe tbody tr th:only-of-type {\n",
       "        vertical-align: middle;\n",
       "    }\n",
       "\n",
       "    .dataframe tbody tr th {\n",
       "        vertical-align: top;\n",
       "    }\n",
       "\n",
       "    .dataframe thead th {\n",
       "        text-align: right;\n",
       "    }\n",
       "</style>\n",
       "<table border=\"1\" class=\"dataframe\">\n",
       "  <thead>\n",
       "    <tr style=\"text-align: right;\">\n",
       "      <th></th>\n",
       "      <th>BATHRM</th>\n",
       "      <th>HF_BATHRM</th>\n",
       "      <th>HEAT</th>\n",
       "      <th>AC</th>\n",
       "      <th>ROOMS</th>\n",
       "      <th>BEDRM</th>\n",
       "      <th>YR_BUILT</th>\n",
       "      <th>YR_RMDL</th>\n",
       "      <th>STORIES</th>\n",
       "      <th>SALEDATE</th>\n",
       "      <th>...</th>\n",
       "      <th>INTWALL</th>\n",
       "      <th>KITCHENS</th>\n",
       "      <th>FIREPLACES</th>\n",
       "      <th>LANDAREA</th>\n",
       "      <th>FULLADDRESS</th>\n",
       "      <th>CITY</th>\n",
       "      <th>STATE</th>\n",
       "      <th>ZIPCODE</th>\n",
       "      <th>WARD</th>\n",
       "      <th>QUADRANT</th>\n",
       "    </tr>\n",
       "  </thead>\n",
       "  <tbody>\n",
       "    <tr>\n",
       "      <th>0</th>\n",
       "      <td>4</td>\n",
       "      <td>0</td>\n",
       "      <td>Warm Cool</td>\n",
       "      <td>Y</td>\n",
       "      <td>8</td>\n",
       "      <td>4</td>\n",
       "      <td>1910.0</td>\n",
       "      <td>1988.0</td>\n",
       "      <td>3.0</td>\n",
       "      <td>2003-11-25</td>\n",
       "      <td>...</td>\n",
       "      <td>Hardwood</td>\n",
       "      <td>2.0</td>\n",
       "      <td>5</td>\n",
       "      <td>1680</td>\n",
       "      <td>1748 SWANN STREET NW</td>\n",
       "      <td>WASHINGTON</td>\n",
       "      <td>DC</td>\n",
       "      <td>20009.0</td>\n",
       "      <td>Ward 2</td>\n",
       "      <td>NW</td>\n",
       "    </tr>\n",
       "    <tr>\n",
       "      <th>2</th>\n",
       "      <td>3</td>\n",
       "      <td>1</td>\n",
       "      <td>Hot Water Rad</td>\n",
       "      <td>Y</td>\n",
       "      <td>9</td>\n",
       "      <td>5</td>\n",
       "      <td>1910.0</td>\n",
       "      <td>2009.0</td>\n",
       "      <td>3.0</td>\n",
       "      <td>2016-06-21</td>\n",
       "      <td>...</td>\n",
       "      <td>Hardwood</td>\n",
       "      <td>2.0</td>\n",
       "      <td>4</td>\n",
       "      <td>1680</td>\n",
       "      <td>1744 SWANN STREET NW</td>\n",
       "      <td>WASHINGTON</td>\n",
       "      <td>DC</td>\n",
       "      <td>20009.0</td>\n",
       "      <td>Ward 2</td>\n",
       "      <td>NW</td>\n",
       "    </tr>\n",
       "    <tr>\n",
       "      <th>3</th>\n",
       "      <td>3</td>\n",
       "      <td>1</td>\n",
       "      <td>Hot Water Rad</td>\n",
       "      <td>Y</td>\n",
       "      <td>8</td>\n",
       "      <td>5</td>\n",
       "      <td>1900.0</td>\n",
       "      <td>2003.0</td>\n",
       "      <td>3.0</td>\n",
       "      <td>2006-07-12</td>\n",
       "      <td>...</td>\n",
       "      <td>Hardwood</td>\n",
       "      <td>2.0</td>\n",
       "      <td>3</td>\n",
       "      <td>1680</td>\n",
       "      <td>1742 SWANN STREET NW</td>\n",
       "      <td>WASHINGTON</td>\n",
       "      <td>DC</td>\n",
       "      <td>20009.0</td>\n",
       "      <td>Ward 2</td>\n",
       "      <td>NW</td>\n",
       "    </tr>\n",
       "    <tr>\n",
       "      <th>7</th>\n",
       "      <td>3</td>\n",
       "      <td>1</td>\n",
       "      <td>Hot Water Rad</td>\n",
       "      <td>Y</td>\n",
       "      <td>8</td>\n",
       "      <td>4</td>\n",
       "      <td>1906.0</td>\n",
       "      <td>2011.0</td>\n",
       "      <td>3.0</td>\n",
       "      <td>2011-09-29</td>\n",
       "      <td>...</td>\n",
       "      <td>Hardwood</td>\n",
       "      <td>2.0</td>\n",
       "      <td>1</td>\n",
       "      <td>1627</td>\n",
       "      <td>1746 1/2 T STREET NW</td>\n",
       "      <td>WASHINGTON</td>\n",
       "      <td>DC</td>\n",
       "      <td>20009.0</td>\n",
       "      <td>Ward 2</td>\n",
       "      <td>NW</td>\n",
       "    </tr>\n",
       "    <tr>\n",
       "      <th>8</th>\n",
       "      <td>3</td>\n",
       "      <td>1</td>\n",
       "      <td>Warm Cool</td>\n",
       "      <td>Y</td>\n",
       "      <td>7</td>\n",
       "      <td>3</td>\n",
       "      <td>1908.0</td>\n",
       "      <td>2008.0</td>\n",
       "      <td>2.0</td>\n",
       "      <td>2018-05-03</td>\n",
       "      <td>...</td>\n",
       "      <td>Hardwood</td>\n",
       "      <td>2.0</td>\n",
       "      <td>1</td>\n",
       "      <td>1424</td>\n",
       "      <td>1727 SWANN STREET NW</td>\n",
       "      <td>WASHINGTON</td>\n",
       "      <td>DC</td>\n",
       "      <td>20009.0</td>\n",
       "      <td>Ward 2</td>\n",
       "      <td>NW</td>\n",
       "    </tr>\n",
       "  </tbody>\n",
       "</table>\n",
       "<p>5 rows × 26 columns</p>\n",
       "</div>"
      ],
      "text/plain": [
       "   BATHRM  HF_BATHRM           HEAT AC  ROOMS  BEDRM  YR_BUILT  YR_RMDL  \\\n",
       "0       4          0      Warm Cool  Y      8      4    1910.0   1988.0   \n",
       "2       3          1  Hot Water Rad  Y      9      5    1910.0   2009.0   \n",
       "3       3          1  Hot Water Rad  Y      8      5    1900.0   2003.0   \n",
       "7       3          1  Hot Water Rad  Y      8      4    1906.0   2011.0   \n",
       "8       3          1      Warm Cool  Y      7      3    1908.0   2008.0   \n",
       "\n",
       "   STORIES   SALEDATE  ...   INTWALL KITCHENS FIREPLACES LANDAREA  \\\n",
       "0      3.0 2003-11-25  ...  Hardwood      2.0          5     1680   \n",
       "2      3.0 2016-06-21  ...  Hardwood      2.0          4     1680   \n",
       "3      3.0 2006-07-12  ...  Hardwood      2.0          3     1680   \n",
       "7      3.0 2011-09-29  ...  Hardwood      2.0          1     1627   \n",
       "8      2.0 2018-05-03  ...  Hardwood      2.0          1     1424   \n",
       "\n",
       "            FULLADDRESS        CITY STATE  ZIPCODE    WARD  QUADRANT  \n",
       "0  1748 SWANN STREET NW  WASHINGTON    DC  20009.0  Ward 2        NW  \n",
       "2  1744 SWANN STREET NW  WASHINGTON    DC  20009.0  Ward 2        NW  \n",
       "3  1742 SWANN STREET NW  WASHINGTON    DC  20009.0  Ward 2        NW  \n",
       "7  1746 1/2 T STREET NW  WASHINGTON    DC  20009.0  Ward 2        NW  \n",
       "8  1727 SWANN STREET NW  WASHINGTON    DC  20009.0  Ward 2        NW  \n",
       "\n",
       "[5 rows x 26 columns]"
      ]
     },
     "execution_count": 34,
     "metadata": {},
     "output_type": "execute_result"
    }
   ],
   "source": [
    "\n",
    "\n",
    "df3 = df2.copy()\n",
    "df3.head()"
   ]
  },
  {
   "cell_type": "code",
   "execution_count": 35,
   "metadata": {},
   "outputs": [
    {
     "name": "stdout",
     "output_type": "stream",
     "text": [
      "(32979, 26)\n"
     ]
    }
   ],
   "source": [
    "print(df3.shape)"
   ]
  },
  {
   "cell_type": "code",
   "execution_count": 35,
   "metadata": {
    "scrolled": true
   },
   "outputs": [
    {
     "data": {
      "text/html": [
       "<div>\n",
       "<style scoped>\n",
       "    .dataframe tbody tr th:only-of-type {\n",
       "        vertical-align: middle;\n",
       "    }\n",
       "\n",
       "    .dataframe tbody tr th {\n",
       "        vertical-align: top;\n",
       "    }\n",
       "\n",
       "    .dataframe thead th {\n",
       "        text-align: right;\n",
       "    }\n",
       "</style>\n",
       "<table border=\"1\" class=\"dataframe\">\n",
       "  <thead>\n",
       "    <tr style=\"text-align: right;\">\n",
       "      <th></th>\n",
       "      <th>BATHRM</th>\n",
       "      <th>HF_BATHRM</th>\n",
       "      <th>HEAT</th>\n",
       "      <th>AC</th>\n",
       "      <th>ROOMS</th>\n",
       "      <th>BEDRM</th>\n",
       "      <th>YR_BUILT</th>\n",
       "      <th>YR_RMDL</th>\n",
       "      <th>STORIES</th>\n",
       "      <th>SALEDATE</th>\n",
       "      <th>...</th>\n",
       "      <th>INTWALL</th>\n",
       "      <th>KITCHENS</th>\n",
       "      <th>FIREPLACES</th>\n",
       "      <th>LANDAREA</th>\n",
       "      <th>FULLADDRESS</th>\n",
       "      <th>CITY</th>\n",
       "      <th>STATE</th>\n",
       "      <th>ZIPCODE</th>\n",
       "      <th>WARD</th>\n",
       "      <th>QUADRANT</th>\n",
       "    </tr>\n",
       "  </thead>\n",
       "  <tbody>\n",
       "    <tr>\n",
       "      <th>0</th>\n",
       "      <td>4</td>\n",
       "      <td>0</td>\n",
       "      <td>Warm Cool</td>\n",
       "      <td>Y</td>\n",
       "      <td>8</td>\n",
       "      <td>4</td>\n",
       "      <td>1910.0</td>\n",
       "      <td>1988.0</td>\n",
       "      <td>3.0</td>\n",
       "      <td>2003-11-25</td>\n",
       "      <td>...</td>\n",
       "      <td>Hardwood</td>\n",
       "      <td>2.0</td>\n",
       "      <td>5</td>\n",
       "      <td>1680</td>\n",
       "      <td>1748 SWANN STREET NW</td>\n",
       "      <td>WASHINGTON</td>\n",
       "      <td>DC</td>\n",
       "      <td>20009.0</td>\n",
       "      <td>Ward 2</td>\n",
       "      <td>NW</td>\n",
       "    </tr>\n",
       "    <tr>\n",
       "      <th>2</th>\n",
       "      <td>3</td>\n",
       "      <td>1</td>\n",
       "      <td>Hot Water Rad</td>\n",
       "      <td>Y</td>\n",
       "      <td>9</td>\n",
       "      <td>5</td>\n",
       "      <td>1910.0</td>\n",
       "      <td>2009.0</td>\n",
       "      <td>3.0</td>\n",
       "      <td>2016-06-21</td>\n",
       "      <td>...</td>\n",
       "      <td>Hardwood</td>\n",
       "      <td>2.0</td>\n",
       "      <td>4</td>\n",
       "      <td>1680</td>\n",
       "      <td>1744 SWANN STREET NW</td>\n",
       "      <td>WASHINGTON</td>\n",
       "      <td>DC</td>\n",
       "      <td>20009.0</td>\n",
       "      <td>Ward 2</td>\n",
       "      <td>NW</td>\n",
       "    </tr>\n",
       "    <tr>\n",
       "      <th>3</th>\n",
       "      <td>3</td>\n",
       "      <td>1</td>\n",
       "      <td>Hot Water Rad</td>\n",
       "      <td>Y</td>\n",
       "      <td>8</td>\n",
       "      <td>5</td>\n",
       "      <td>1900.0</td>\n",
       "      <td>2003.0</td>\n",
       "      <td>3.0</td>\n",
       "      <td>2006-07-12</td>\n",
       "      <td>...</td>\n",
       "      <td>Hardwood</td>\n",
       "      <td>2.0</td>\n",
       "      <td>3</td>\n",
       "      <td>1680</td>\n",
       "      <td>1742 SWANN STREET NW</td>\n",
       "      <td>WASHINGTON</td>\n",
       "      <td>DC</td>\n",
       "      <td>20009.0</td>\n",
       "      <td>Ward 2</td>\n",
       "      <td>NW</td>\n",
       "    </tr>\n",
       "    <tr>\n",
       "      <th>7</th>\n",
       "      <td>3</td>\n",
       "      <td>1</td>\n",
       "      <td>Hot Water Rad</td>\n",
       "      <td>Y</td>\n",
       "      <td>8</td>\n",
       "      <td>4</td>\n",
       "      <td>1906.0</td>\n",
       "      <td>2011.0</td>\n",
       "      <td>3.0</td>\n",
       "      <td>2011-09-29</td>\n",
       "      <td>...</td>\n",
       "      <td>Hardwood</td>\n",
       "      <td>2.0</td>\n",
       "      <td>1</td>\n",
       "      <td>1627</td>\n",
       "      <td>1746 1/2 T STREET NW</td>\n",
       "      <td>WASHINGTON</td>\n",
       "      <td>DC</td>\n",
       "      <td>20009.0</td>\n",
       "      <td>Ward 2</td>\n",
       "      <td>NW</td>\n",
       "    </tr>\n",
       "    <tr>\n",
       "      <th>8</th>\n",
       "      <td>3</td>\n",
       "      <td>1</td>\n",
       "      <td>Warm Cool</td>\n",
       "      <td>Y</td>\n",
       "      <td>7</td>\n",
       "      <td>3</td>\n",
       "      <td>1908.0</td>\n",
       "      <td>2008.0</td>\n",
       "      <td>2.0</td>\n",
       "      <td>2018-05-03</td>\n",
       "      <td>...</td>\n",
       "      <td>Hardwood</td>\n",
       "      <td>2.0</td>\n",
       "      <td>1</td>\n",
       "      <td>1424</td>\n",
       "      <td>1727 SWANN STREET NW</td>\n",
       "      <td>WASHINGTON</td>\n",
       "      <td>DC</td>\n",
       "      <td>20009.0</td>\n",
       "      <td>Ward 2</td>\n",
       "      <td>NW</td>\n",
       "    </tr>\n",
       "  </tbody>\n",
       "</table>\n",
       "<p>5 rows × 26 columns</p>\n",
       "</div>"
      ],
      "text/plain": [
       "   BATHRM  HF_BATHRM           HEAT AC  ROOMS  BEDRM  YR_BUILT  YR_RMDL  \\\n",
       "0       4          0      Warm Cool  Y      8      4    1910.0   1988.0   \n",
       "2       3          1  Hot Water Rad  Y      9      5    1910.0   2009.0   \n",
       "3       3          1  Hot Water Rad  Y      8      5    1900.0   2003.0   \n",
       "7       3          1  Hot Water Rad  Y      8      4    1906.0   2011.0   \n",
       "8       3          1      Warm Cool  Y      7      3    1908.0   2008.0   \n",
       "\n",
       "   STORIES   SALEDATE  ...   INTWALL KITCHENS FIREPLACES LANDAREA  \\\n",
       "0      3.0 2003-11-25  ...  Hardwood      2.0          5     1680   \n",
       "2      3.0 2016-06-21  ...  Hardwood      2.0          4     1680   \n",
       "3      3.0 2006-07-12  ...  Hardwood      2.0          3     1680   \n",
       "7      3.0 2011-09-29  ...  Hardwood      2.0          1     1627   \n",
       "8      2.0 2018-05-03  ...  Hardwood      2.0          1     1424   \n",
       "\n",
       "            FULLADDRESS        CITY STATE  ZIPCODE    WARD  QUADRANT  \n",
       "0  1748 SWANN STREET NW  WASHINGTON    DC  20009.0  Ward 2        NW  \n",
       "2  1744 SWANN STREET NW  WASHINGTON    DC  20009.0  Ward 2        NW  \n",
       "3  1742 SWANN STREET NW  WASHINGTON    DC  20009.0  Ward 2        NW  \n",
       "7  1746 1/2 T STREET NW  WASHINGTON    DC  20009.0  Ward 2        NW  \n",
       "8  1727 SWANN STREET NW  WASHINGTON    DC  20009.0  Ward 2        NW  \n",
       "\n",
       "[5 rows x 26 columns]"
      ]
     },
     "execution_count": 35,
     "metadata": {},
     "output_type": "execute_result"
    }
   ],
   "source": [
    "# place a copy of the \"df2\" dataset into a variable named \"dfz\"...this dataset will be used to detect and\n",
    "# remove outliers using z-score(s)...\n",
    "\n",
    "dfz = df2.copy()\n",
    "\n",
    "# display the first 5 rows of the \"dfz\" dataset\n",
    "dfz.head()\n",
    "\n"
   ]
  },
  {
   "cell_type": "code",
   "execution_count": 38,
   "metadata": {},
   "outputs": [
    {
     "name": "stdout",
     "output_type": "stream",
     "text": [
      "(32979, 27)\n"
     ]
    }
   ],
   "source": [
    "# check and display the shape of the \"dfz\" dataset...\n",
    "\n",
    "print(dfz.shape)"
   ]
  },
  {
   "cell_type": "code",
   "execution_count": null,
   "metadata": {},
   "outputs": [],
   "source": [
    "# there are 32,979 rows & 26 columns in the \"dfz\" dataset..."
   ]
  },
  {
   "cell_type": "code",
   "execution_count": 39,
   "metadata": {},
   "outputs": [],
   "source": [
    "# create a new column, named \"ZSCORE_ROOMS\", to contain the z-scores for the values in the \"ROOMS\" column...\n",
    "# use the \"stats.zscore\" function to calculate the z-scores...\n",
    "# use the \"np.abs\" function to set the new column equal to the absolute value of those z-scores \n",
    "# for the corresponding number of rooms...\n",
    "\n",
    "\n",
    "dfz[\"ZSCORE_ROOMS\"] = np.abs(stats.zscore(dfz[\"ROOMS\"]))"
   ]
  },
  {
   "cell_type": "code",
   "execution_count": 40,
   "metadata": {
    "scrolled": true
   },
   "outputs": [
    {
     "data": {
      "text/html": [
       "<div>\n",
       "<style scoped>\n",
       "    .dataframe tbody tr th:only-of-type {\n",
       "        vertical-align: middle;\n",
       "    }\n",
       "\n",
       "    .dataframe tbody tr th {\n",
       "        vertical-align: top;\n",
       "    }\n",
       "\n",
       "    .dataframe thead th {\n",
       "        text-align: right;\n",
       "    }\n",
       "</style>\n",
       "<table border=\"1\" class=\"dataframe\">\n",
       "  <thead>\n",
       "    <tr style=\"text-align: right;\">\n",
       "      <th></th>\n",
       "      <th>BATHRM</th>\n",
       "      <th>HF_BATHRM</th>\n",
       "      <th>HEAT</th>\n",
       "      <th>AC</th>\n",
       "      <th>ROOMS</th>\n",
       "      <th>BEDRM</th>\n",
       "      <th>YR_BUILT</th>\n",
       "      <th>YR_RMDL</th>\n",
       "      <th>STORIES</th>\n",
       "      <th>SALEDATE</th>\n",
       "      <th>...</th>\n",
       "      <th>KITCHENS</th>\n",
       "      <th>FIREPLACES</th>\n",
       "      <th>LANDAREA</th>\n",
       "      <th>FULLADDRESS</th>\n",
       "      <th>CITY</th>\n",
       "      <th>STATE</th>\n",
       "      <th>ZIPCODE</th>\n",
       "      <th>WARD</th>\n",
       "      <th>QUADRANT</th>\n",
       "      <th>ZSCORE_ROOMS</th>\n",
       "    </tr>\n",
       "  </thead>\n",
       "  <tbody>\n",
       "    <tr>\n",
       "      <th>0</th>\n",
       "      <td>4</td>\n",
       "      <td>0</td>\n",
       "      <td>Warm Cool</td>\n",
       "      <td>Y</td>\n",
       "      <td>8</td>\n",
       "      <td>4</td>\n",
       "      <td>1910.0</td>\n",
       "      <td>1988.0</td>\n",
       "      <td>3.0</td>\n",
       "      <td>2003-11-25</td>\n",
       "      <td>...</td>\n",
       "      <td>2.0</td>\n",
       "      <td>5</td>\n",
       "      <td>1680</td>\n",
       "      <td>1748 SWANN STREET NW</td>\n",
       "      <td>WASHINGTON</td>\n",
       "      <td>DC</td>\n",
       "      <td>20009.0</td>\n",
       "      <td>Ward 2</td>\n",
       "      <td>NW</td>\n",
       "      <td>0.182324</td>\n",
       "    </tr>\n",
       "    <tr>\n",
       "      <th>2</th>\n",
       "      <td>3</td>\n",
       "      <td>1</td>\n",
       "      <td>Hot Water Rad</td>\n",
       "      <td>Y</td>\n",
       "      <td>9</td>\n",
       "      <td>5</td>\n",
       "      <td>1910.0</td>\n",
       "      <td>2009.0</td>\n",
       "      <td>3.0</td>\n",
       "      <td>2016-06-21</td>\n",
       "      <td>...</td>\n",
       "      <td>2.0</td>\n",
       "      <td>4</td>\n",
       "      <td>1680</td>\n",
       "      <td>1744 SWANN STREET NW</td>\n",
       "      <td>WASHINGTON</td>\n",
       "      <td>DC</td>\n",
       "      <td>20009.0</td>\n",
       "      <td>Ward 2</td>\n",
       "      <td>NW</td>\n",
       "      <td>0.611659</td>\n",
       "    </tr>\n",
       "    <tr>\n",
       "      <th>3</th>\n",
       "      <td>3</td>\n",
       "      <td>1</td>\n",
       "      <td>Hot Water Rad</td>\n",
       "      <td>Y</td>\n",
       "      <td>8</td>\n",
       "      <td>5</td>\n",
       "      <td>1900.0</td>\n",
       "      <td>2003.0</td>\n",
       "      <td>3.0</td>\n",
       "      <td>2006-07-12</td>\n",
       "      <td>...</td>\n",
       "      <td>2.0</td>\n",
       "      <td>3</td>\n",
       "      <td>1680</td>\n",
       "      <td>1742 SWANN STREET NW</td>\n",
       "      <td>WASHINGTON</td>\n",
       "      <td>DC</td>\n",
       "      <td>20009.0</td>\n",
       "      <td>Ward 2</td>\n",
       "      <td>NW</td>\n",
       "      <td>0.182324</td>\n",
       "    </tr>\n",
       "    <tr>\n",
       "      <th>7</th>\n",
       "      <td>3</td>\n",
       "      <td>1</td>\n",
       "      <td>Hot Water Rad</td>\n",
       "      <td>Y</td>\n",
       "      <td>8</td>\n",
       "      <td>4</td>\n",
       "      <td>1906.0</td>\n",
       "      <td>2011.0</td>\n",
       "      <td>3.0</td>\n",
       "      <td>2011-09-29</td>\n",
       "      <td>...</td>\n",
       "      <td>2.0</td>\n",
       "      <td>1</td>\n",
       "      <td>1627</td>\n",
       "      <td>1746 1/2 T STREET NW</td>\n",
       "      <td>WASHINGTON</td>\n",
       "      <td>DC</td>\n",
       "      <td>20009.0</td>\n",
       "      <td>Ward 2</td>\n",
       "      <td>NW</td>\n",
       "      <td>0.182324</td>\n",
       "    </tr>\n",
       "    <tr>\n",
       "      <th>8</th>\n",
       "      <td>3</td>\n",
       "      <td>1</td>\n",
       "      <td>Warm Cool</td>\n",
       "      <td>Y</td>\n",
       "      <td>7</td>\n",
       "      <td>3</td>\n",
       "      <td>1908.0</td>\n",
       "      <td>2008.0</td>\n",
       "      <td>2.0</td>\n",
       "      <td>2018-05-03</td>\n",
       "      <td>...</td>\n",
       "      <td>2.0</td>\n",
       "      <td>1</td>\n",
       "      <td>1424</td>\n",
       "      <td>1727 SWANN STREET NW</td>\n",
       "      <td>WASHINGTON</td>\n",
       "      <td>DC</td>\n",
       "      <td>20009.0</td>\n",
       "      <td>Ward 2</td>\n",
       "      <td>NW</td>\n",
       "      <td>0.247012</td>\n",
       "    </tr>\n",
       "  </tbody>\n",
       "</table>\n",
       "<p>5 rows × 27 columns</p>\n",
       "</div>"
      ],
      "text/plain": [
       "   BATHRM  HF_BATHRM           HEAT AC  ROOMS  BEDRM  YR_BUILT  YR_RMDL  \\\n",
       "0       4          0      Warm Cool  Y      8      4    1910.0   1988.0   \n",
       "2       3          1  Hot Water Rad  Y      9      5    1910.0   2009.0   \n",
       "3       3          1  Hot Water Rad  Y      8      5    1900.0   2003.0   \n",
       "7       3          1  Hot Water Rad  Y      8      4    1906.0   2011.0   \n",
       "8       3          1      Warm Cool  Y      7      3    1908.0   2008.0   \n",
       "\n",
       "   STORIES   SALEDATE  ...  KITCHENS FIREPLACES LANDAREA  \\\n",
       "0      3.0 2003-11-25  ...       2.0          5     1680   \n",
       "2      3.0 2016-06-21  ...       2.0          4     1680   \n",
       "3      3.0 2006-07-12  ...       2.0          3     1680   \n",
       "7      3.0 2011-09-29  ...       2.0          1     1627   \n",
       "8      2.0 2018-05-03  ...       2.0          1     1424   \n",
       "\n",
       "            FULLADDRESS        CITY STATE  ZIPCODE    WARD  QUADRANT  \\\n",
       "0  1748 SWANN STREET NW  WASHINGTON    DC  20009.0  Ward 2        NW   \n",
       "2  1744 SWANN STREET NW  WASHINGTON    DC  20009.0  Ward 2        NW   \n",
       "3  1742 SWANN STREET NW  WASHINGTON    DC  20009.0  Ward 2        NW   \n",
       "7  1746 1/2 T STREET NW  WASHINGTON    DC  20009.0  Ward 2        NW   \n",
       "8  1727 SWANN STREET NW  WASHINGTON    DC  20009.0  Ward 2        NW   \n",
       "\n",
       "   ZSCORE_ROOMS  \n",
       "0      0.182324  \n",
       "2      0.611659  \n",
       "3      0.182324  \n",
       "7      0.182324  \n",
       "8      0.247012  \n",
       "\n",
       "[5 rows x 27 columns]"
      ]
     },
     "execution_count": 40,
     "metadata": {},
     "output_type": "execute_result"
    }
   ],
   "source": [
    "# use the \"head\"  function to display the first 5 rows of the \"dfz\" dataset with the added \"ZSCORE_ROOMS\" column...\n",
    "\n",
    "dfz.head()"
   ]
  },
  {
   "cell_type": "code",
   "execution_count": 41,
   "metadata": {},
   "outputs": [
    {
     "name": "stdout",
     "output_type": "stream",
     "text": [
      "(32979, 27)\n"
     ]
    }
   ],
   "source": [
    "# check and display the shape of the \"dfz\" dataset...\n",
    "\n",
    "print(dfz.shape)"
   ]
  },
  {
   "cell_type": "code",
   "execution_count": 42,
   "metadata": {},
   "outputs": [
    {
     "data": {
      "text/plain": [
       "Int64Index([   102,    202,    208,    250,    616,    681,    689,    693,\n",
       "               797,    815,\n",
       "            ...\n",
       "            105391, 105392, 105393, 105505, 105510, 106080, 106176, 106209,\n",
       "            106467, 106522],\n",
       "           dtype='int64', length=637)"
      ]
     },
     "execution_count": 42,
     "metadata": {},
     "output_type": "execute_result"
    }
   ],
   "source": [
    "# Determine the index locations for the rows with z-scores that are greater than \"3\"\n",
    "# z-scores greater than \"3\" are considered to be outliers with the rest of the dataset...\n",
    "# store the index(es) with the z-score outliers in a variable named \"z_outliers\"...\n",
    "\n",
    "z_outliers = dfz[dfz[\"ZSCORE_ROOMS\"] > 3].index\n",
    "\n",
    "z_outliers"
   ]
  },
  {
   "cell_type": "code",
   "execution_count": 43,
   "metadata": {},
   "outputs": [
    {
     "name": "stdout",
     "output_type": "stream",
     "text": [
      "15\n",
      "6\n"
     ]
    }
   ],
   "source": [
    "# view a couple of the indexes and the associated \"ROOMS\" value...\n",
    "\n",
    "print(dfz.iloc[102][\"ROOMS\"])   \n",
    "print(dfz.iloc[815][\"ROOMS\"]) "
   ]
  },
  {
   "cell_type": "code",
   "execution_count": 44,
   "metadata": {},
   "outputs": [
    {
     "data": {
      "text/plain": [
       "count    32979.000000\n",
       "mean         7.575336\n",
       "std          2.329215\n",
       "min          0.000000\n",
       "25%          6.000000\n",
       "50%          7.000000\n",
       "75%          9.000000\n",
       "max         31.000000\n",
       "Name: ROOMS, dtype: float64"
      ]
     },
     "execution_count": 44,
     "metadata": {},
     "output_type": "execute_result"
    }
   ],
   "source": [
    "# use the \"describe\" function to view statistics of the \"ROOMS\" values in the \"dfz\" dataset...\n",
    "\n",
    "dfz[\"ROOMS\"].describe()"
   ]
  },
  {
   "cell_type": "code",
   "execution_count": 45,
   "metadata": {},
   "outputs": [],
   "source": [
    "# use the \"drop\" function to remove the rows with the outliers in the \"ROOMS\" column from the \"dfz\" dataset...\n",
    "\n",
    "dfz = dfz.drop(z_outliers)"
   ]
  },
  {
   "cell_type": "code",
   "execution_count": 46,
   "metadata": {},
   "outputs": [
    {
     "name": "stdout",
     "output_type": "stream",
     "text": [
      "(32342, 27)\n"
     ]
    }
   ],
   "source": [
    "# use the \"shape\" function to view the shape of the updated \"dfz\" dataset...\n",
    "\n",
    "print(dfz.shape)"
   ]
  },
  {
   "cell_type": "code",
   "execution_count": 47,
   "metadata": {},
   "outputs": [
    {
     "data": {
      "text/plain": [
       "count    32342.000000\n",
       "mean         7.400779\n",
       "std          1.961497\n",
       "min          2.000000\n",
       "25%          6.000000\n",
       "50%          7.000000\n",
       "75%          8.000000\n",
       "max         14.000000\n",
       "Name: ROOMS, dtype: float64"
      ]
     },
     "execution_count": 47,
     "metadata": {},
     "output_type": "execute_result"
    }
   ],
   "source": [
    "# use the \"describe\" function to view statistics of the \"ROOMS\" values in the updated \"dfz\" dataset...\n",
    "\n",
    "dfz[\"ROOMS\"].describe()"
   ]
  },
  {
   "cell_type": "code",
   "execution_count": null,
   "metadata": {},
   "outputs": [],
   "source": [
    "# before removing the outliers, the \"dfz\" dataset contained 32,979 rows and 26 columns...\n",
    "# after using z-scores to remove outliers in the \"ROOMS\" column, the \"dfz\" dataset contained 32,343 rows and \n",
    "# 27 columns...\n",
    "# 636 rows were removed from the original \"dfz\" dataset..."
   ]
  },
  {
   "cell_type": "code",
   "execution_count": 48,
   "metadata": {},
   "outputs": [],
   "source": [
    "# use the \"copy\" function to place a copy of the \"df2\" dataset into a variable named \"dfq\"...this dataset \n",
    "# will be used to detect and remove outliers using the Interquartile Range (IQR)...\n",
    "\n",
    "dfq = df2.copy()\n"
   ]
  },
  {
   "cell_type": "code",
   "execution_count": 49,
   "metadata": {
    "scrolled": true
   },
   "outputs": [
    {
     "data": {
      "text/html": [
       "<div>\n",
       "<style scoped>\n",
       "    .dataframe tbody tr th:only-of-type {\n",
       "        vertical-align: middle;\n",
       "    }\n",
       "\n",
       "    .dataframe tbody tr th {\n",
       "        vertical-align: top;\n",
       "    }\n",
       "\n",
       "    .dataframe thead th {\n",
       "        text-align: right;\n",
       "    }\n",
       "</style>\n",
       "<table border=\"1\" class=\"dataframe\">\n",
       "  <thead>\n",
       "    <tr style=\"text-align: right;\">\n",
       "      <th></th>\n",
       "      <th>BATHRM</th>\n",
       "      <th>HF_BATHRM</th>\n",
       "      <th>HEAT</th>\n",
       "      <th>AC</th>\n",
       "      <th>ROOMS</th>\n",
       "      <th>BEDRM</th>\n",
       "      <th>YR_BUILT</th>\n",
       "      <th>YR_RMDL</th>\n",
       "      <th>STORIES</th>\n",
       "      <th>SALEDATE</th>\n",
       "      <th>...</th>\n",
       "      <th>INTWALL</th>\n",
       "      <th>KITCHENS</th>\n",
       "      <th>FIREPLACES</th>\n",
       "      <th>LANDAREA</th>\n",
       "      <th>FULLADDRESS</th>\n",
       "      <th>CITY</th>\n",
       "      <th>STATE</th>\n",
       "      <th>ZIPCODE</th>\n",
       "      <th>WARD</th>\n",
       "      <th>QUADRANT</th>\n",
       "    </tr>\n",
       "  </thead>\n",
       "  <tbody>\n",
       "    <tr>\n",
       "      <th>0</th>\n",
       "      <td>4</td>\n",
       "      <td>0</td>\n",
       "      <td>Warm Cool</td>\n",
       "      <td>Y</td>\n",
       "      <td>8</td>\n",
       "      <td>4</td>\n",
       "      <td>1910.0</td>\n",
       "      <td>1988.0</td>\n",
       "      <td>3.0</td>\n",
       "      <td>2003-11-25</td>\n",
       "      <td>...</td>\n",
       "      <td>Hardwood</td>\n",
       "      <td>2.0</td>\n",
       "      <td>5</td>\n",
       "      <td>1680</td>\n",
       "      <td>1748 SWANN STREET NW</td>\n",
       "      <td>WASHINGTON</td>\n",
       "      <td>DC</td>\n",
       "      <td>20009.0</td>\n",
       "      <td>Ward 2</td>\n",
       "      <td>NW</td>\n",
       "    </tr>\n",
       "    <tr>\n",
       "      <th>2</th>\n",
       "      <td>3</td>\n",
       "      <td>1</td>\n",
       "      <td>Hot Water Rad</td>\n",
       "      <td>Y</td>\n",
       "      <td>9</td>\n",
       "      <td>5</td>\n",
       "      <td>1910.0</td>\n",
       "      <td>2009.0</td>\n",
       "      <td>3.0</td>\n",
       "      <td>2016-06-21</td>\n",
       "      <td>...</td>\n",
       "      <td>Hardwood</td>\n",
       "      <td>2.0</td>\n",
       "      <td>4</td>\n",
       "      <td>1680</td>\n",
       "      <td>1744 SWANN STREET NW</td>\n",
       "      <td>WASHINGTON</td>\n",
       "      <td>DC</td>\n",
       "      <td>20009.0</td>\n",
       "      <td>Ward 2</td>\n",
       "      <td>NW</td>\n",
       "    </tr>\n",
       "    <tr>\n",
       "      <th>3</th>\n",
       "      <td>3</td>\n",
       "      <td>1</td>\n",
       "      <td>Hot Water Rad</td>\n",
       "      <td>Y</td>\n",
       "      <td>8</td>\n",
       "      <td>5</td>\n",
       "      <td>1900.0</td>\n",
       "      <td>2003.0</td>\n",
       "      <td>3.0</td>\n",
       "      <td>2006-07-12</td>\n",
       "      <td>...</td>\n",
       "      <td>Hardwood</td>\n",
       "      <td>2.0</td>\n",
       "      <td>3</td>\n",
       "      <td>1680</td>\n",
       "      <td>1742 SWANN STREET NW</td>\n",
       "      <td>WASHINGTON</td>\n",
       "      <td>DC</td>\n",
       "      <td>20009.0</td>\n",
       "      <td>Ward 2</td>\n",
       "      <td>NW</td>\n",
       "    </tr>\n",
       "    <tr>\n",
       "      <th>7</th>\n",
       "      <td>3</td>\n",
       "      <td>1</td>\n",
       "      <td>Hot Water Rad</td>\n",
       "      <td>Y</td>\n",
       "      <td>8</td>\n",
       "      <td>4</td>\n",
       "      <td>1906.0</td>\n",
       "      <td>2011.0</td>\n",
       "      <td>3.0</td>\n",
       "      <td>2011-09-29</td>\n",
       "      <td>...</td>\n",
       "      <td>Hardwood</td>\n",
       "      <td>2.0</td>\n",
       "      <td>1</td>\n",
       "      <td>1627</td>\n",
       "      <td>1746 1/2 T STREET NW</td>\n",
       "      <td>WASHINGTON</td>\n",
       "      <td>DC</td>\n",
       "      <td>20009.0</td>\n",
       "      <td>Ward 2</td>\n",
       "      <td>NW</td>\n",
       "    </tr>\n",
       "    <tr>\n",
       "      <th>8</th>\n",
       "      <td>3</td>\n",
       "      <td>1</td>\n",
       "      <td>Warm Cool</td>\n",
       "      <td>Y</td>\n",
       "      <td>7</td>\n",
       "      <td>3</td>\n",
       "      <td>1908.0</td>\n",
       "      <td>2008.0</td>\n",
       "      <td>2.0</td>\n",
       "      <td>2018-05-03</td>\n",
       "      <td>...</td>\n",
       "      <td>Hardwood</td>\n",
       "      <td>2.0</td>\n",
       "      <td>1</td>\n",
       "      <td>1424</td>\n",
       "      <td>1727 SWANN STREET NW</td>\n",
       "      <td>WASHINGTON</td>\n",
       "      <td>DC</td>\n",
       "      <td>20009.0</td>\n",
       "      <td>Ward 2</td>\n",
       "      <td>NW</td>\n",
       "    </tr>\n",
       "  </tbody>\n",
       "</table>\n",
       "<p>5 rows × 26 columns</p>\n",
       "</div>"
      ],
      "text/plain": [
       "   BATHRM  HF_BATHRM           HEAT AC  ROOMS  BEDRM  YR_BUILT  YR_RMDL  \\\n",
       "0       4          0      Warm Cool  Y      8      4    1910.0   1988.0   \n",
       "2       3          1  Hot Water Rad  Y      9      5    1910.0   2009.0   \n",
       "3       3          1  Hot Water Rad  Y      8      5    1900.0   2003.0   \n",
       "7       3          1  Hot Water Rad  Y      8      4    1906.0   2011.0   \n",
       "8       3          1      Warm Cool  Y      7      3    1908.0   2008.0   \n",
       "\n",
       "   STORIES   SALEDATE  ...   INTWALL KITCHENS FIREPLACES LANDAREA  \\\n",
       "0      3.0 2003-11-25  ...  Hardwood      2.0          5     1680   \n",
       "2      3.0 2016-06-21  ...  Hardwood      2.0          4     1680   \n",
       "3      3.0 2006-07-12  ...  Hardwood      2.0          3     1680   \n",
       "7      3.0 2011-09-29  ...  Hardwood      2.0          1     1627   \n",
       "8      2.0 2018-05-03  ...  Hardwood      2.0          1     1424   \n",
       "\n",
       "            FULLADDRESS        CITY STATE  ZIPCODE    WARD  QUADRANT  \n",
       "0  1748 SWANN STREET NW  WASHINGTON    DC  20009.0  Ward 2        NW  \n",
       "2  1744 SWANN STREET NW  WASHINGTON    DC  20009.0  Ward 2        NW  \n",
       "3  1742 SWANN STREET NW  WASHINGTON    DC  20009.0  Ward 2        NW  \n",
       "7  1746 1/2 T STREET NW  WASHINGTON    DC  20009.0  Ward 2        NW  \n",
       "8  1727 SWANN STREET NW  WASHINGTON    DC  20009.0  Ward 2        NW  \n",
       "\n",
       "[5 rows x 26 columns]"
      ]
     },
     "execution_count": 49,
     "metadata": {},
     "output_type": "execute_result"
    }
   ],
   "source": [
    "# use the \"head\"  function to display the first 5 rows of the \"dfq\" dataset column...\n",
    "\n",
    "dfq.head()"
   ]
  },
  {
   "cell_type": "code",
   "execution_count": 50,
   "metadata": {},
   "outputs": [
    {
     "data": {
      "text/plain": [
       "(32979, 26)"
      ]
     },
     "execution_count": 50,
     "metadata": {},
     "output_type": "execute_result"
    }
   ],
   "source": [
    "# Check shape of the dataset\n",
    "\n",
    "dfq.shape"
   ]
  },
  {
   "cell_type": "code",
   "execution_count": 51,
   "metadata": {},
   "outputs": [],
   "source": [
    "# Calculate quartiles for the values in the \"ROOMS\" column\n",
    "\n",
    "q1 = dfq[\"ROOMS\"].quantile(.25)\n",
    "q3 = dfq[\"ROOMS\"].quantile(.75)\n",
    "\n",
    "\n",
    "# calculate the Interquartile Range (IQR)...\n",
    "iqr = q3 - q1\n",
    "\n",
    "\n",
    "# determine/calculate the outlier fences...\n",
    "top = q3 + (iqr * 1.5)\n",
    "bottom = q1 - (iqr * 1.5)\n"
   ]
  },
  {
   "cell_type": "code",
   "execution_count": 52,
   "metadata": {},
   "outputs": [
    {
     "name": "stdout",
     "output_type": "stream",
     "text": [
      "q1= 6.0 q3= 9.0 iqr= 3.0 bottom= 1.5 top= 13.5\n"
     ]
    }
   ],
   "source": [
    "# display the Interquartile Range (IQR), the top & bottom outlier fences...\n",
    "\n",
    "print(\"q1=\", q1, \"q3=\", q3, \"iqr=\", iqr, \"bottom=\", bottom, \"top=\", top)"
   ]
  },
  {
   "cell_type": "code",
   "execution_count": 53,
   "metadata": {},
   "outputs": [
    {
     "name": "stdout",
     "output_type": "stream",
     "text": [
      "Int64Index([    20,    102,    202,    208,    250,    616,    681,    689,\n",
      "               693,    744,\n",
      "            ...\n",
      "            105505, 105510, 106080, 106176, 106178, 106209, 106366, 106467,\n",
      "            106522, 106683],\n",
      "           dtype='int64', length=839)\n"
     ]
    }
   ],
   "source": [
    "## Determine the index locations for rows that fall outside of outlier fences (top & bottom)\n",
    "\n",
    "iqr_outliers = dfq[(dfq[\"ROOMS\"] > top) | (dfq[\"ROOMS\"] < bottom)].index\n",
    "\n",
    "# display the index(s) that contain values in the \"ROOMS\" column that are outliers...\n",
    "\n",
    "print(iqr_outliers)\n",
    "\n"
   ]
  },
  {
   "cell_type": "code",
   "execution_count": 54,
   "metadata": {},
   "outputs": [
    {
     "name": "stdout",
     "output_type": "stream",
     "text": [
      "(32140, 26)\n"
     ]
    }
   ],
   "source": [
    "# drop the rows that contain the outliers in the \"dfq\" dataset with the associated index values...\n",
    "dfq = dfq.drop(iqr_outliers)\n",
    "\n",
    "\n",
    "# check the shape of the updated \"dfq\" dataframe...\n",
    "print(dfq.shape)"
   ]
  },
  {
   "cell_type": "code",
   "execution_count": 55,
   "metadata": {},
   "outputs": [
    {
     "name": "stdout",
     "output_type": "stream",
     "text": [
      "(32342, 27)\n"
     ]
    }
   ],
   "source": [
    "## Re-check the shape of the dataframe, how many rows were dropped?\n",
    "print(dfz.shape)"
   ]
  },
  {
   "cell_type": "code",
   "execution_count": 56,
   "metadata": {},
   "outputs": [
    {
     "data": {
      "text/html": [
       "<div>\n",
       "<style scoped>\n",
       "    .dataframe tbody tr th:only-of-type {\n",
       "        vertical-align: middle;\n",
       "    }\n",
       "\n",
       "    .dataframe tbody tr th {\n",
       "        vertical-align: top;\n",
       "    }\n",
       "\n",
       "    .dataframe thead th {\n",
       "        text-align: right;\n",
       "    }\n",
       "</style>\n",
       "<table border=\"1\" class=\"dataframe\">\n",
       "  <thead>\n",
       "    <tr style=\"text-align: right;\">\n",
       "      <th></th>\n",
       "      <th>BATHRM</th>\n",
       "      <th>HF_BATHRM</th>\n",
       "      <th>HEAT</th>\n",
       "      <th>AC</th>\n",
       "      <th>ROOMS</th>\n",
       "      <th>BEDRM</th>\n",
       "      <th>YR_BUILT</th>\n",
       "      <th>YR_RMDL</th>\n",
       "      <th>STORIES</th>\n",
       "      <th>SALEDATE</th>\n",
       "      <th>...</th>\n",
       "      <th>INTWALL</th>\n",
       "      <th>KITCHENS</th>\n",
       "      <th>FIREPLACES</th>\n",
       "      <th>LANDAREA</th>\n",
       "      <th>FULLADDRESS</th>\n",
       "      <th>CITY</th>\n",
       "      <th>STATE</th>\n",
       "      <th>ZIPCODE</th>\n",
       "      <th>WARD</th>\n",
       "      <th>QUADRANT</th>\n",
       "    </tr>\n",
       "  </thead>\n",
       "  <tbody>\n",
       "    <tr>\n",
       "      <th>0</th>\n",
       "      <td>4</td>\n",
       "      <td>0</td>\n",
       "      <td>Warm Cool</td>\n",
       "      <td>Y</td>\n",
       "      <td>8</td>\n",
       "      <td>4</td>\n",
       "      <td>1910.0</td>\n",
       "      <td>1988.0</td>\n",
       "      <td>3.0</td>\n",
       "      <td>2003-11-25</td>\n",
       "      <td>...</td>\n",
       "      <td>Hardwood</td>\n",
       "      <td>2.0</td>\n",
       "      <td>5</td>\n",
       "      <td>1680</td>\n",
       "      <td>1748 SWANN STREET NW</td>\n",
       "      <td>WASHINGTON</td>\n",
       "      <td>DC</td>\n",
       "      <td>20009.0</td>\n",
       "      <td>Ward 2</td>\n",
       "      <td>NW</td>\n",
       "    </tr>\n",
       "    <tr>\n",
       "      <th>2</th>\n",
       "      <td>3</td>\n",
       "      <td>1</td>\n",
       "      <td>Hot Water Rad</td>\n",
       "      <td>Y</td>\n",
       "      <td>9</td>\n",
       "      <td>5</td>\n",
       "      <td>1910.0</td>\n",
       "      <td>2009.0</td>\n",
       "      <td>3.0</td>\n",
       "      <td>2016-06-21</td>\n",
       "      <td>...</td>\n",
       "      <td>Hardwood</td>\n",
       "      <td>2.0</td>\n",
       "      <td>4</td>\n",
       "      <td>1680</td>\n",
       "      <td>1744 SWANN STREET NW</td>\n",
       "      <td>WASHINGTON</td>\n",
       "      <td>DC</td>\n",
       "      <td>20009.0</td>\n",
       "      <td>Ward 2</td>\n",
       "      <td>NW</td>\n",
       "    </tr>\n",
       "    <tr>\n",
       "      <th>3</th>\n",
       "      <td>3</td>\n",
       "      <td>1</td>\n",
       "      <td>Hot Water Rad</td>\n",
       "      <td>Y</td>\n",
       "      <td>8</td>\n",
       "      <td>5</td>\n",
       "      <td>1900.0</td>\n",
       "      <td>2003.0</td>\n",
       "      <td>3.0</td>\n",
       "      <td>2006-07-12</td>\n",
       "      <td>...</td>\n",
       "      <td>Hardwood</td>\n",
       "      <td>2.0</td>\n",
       "      <td>3</td>\n",
       "      <td>1680</td>\n",
       "      <td>1742 SWANN STREET NW</td>\n",
       "      <td>WASHINGTON</td>\n",
       "      <td>DC</td>\n",
       "      <td>20009.0</td>\n",
       "      <td>Ward 2</td>\n",
       "      <td>NW</td>\n",
       "    </tr>\n",
       "    <tr>\n",
       "      <th>7</th>\n",
       "      <td>3</td>\n",
       "      <td>1</td>\n",
       "      <td>Hot Water Rad</td>\n",
       "      <td>Y</td>\n",
       "      <td>8</td>\n",
       "      <td>4</td>\n",
       "      <td>1906.0</td>\n",
       "      <td>2011.0</td>\n",
       "      <td>3.0</td>\n",
       "      <td>2011-09-29</td>\n",
       "      <td>...</td>\n",
       "      <td>Hardwood</td>\n",
       "      <td>2.0</td>\n",
       "      <td>1</td>\n",
       "      <td>1627</td>\n",
       "      <td>1746 1/2 T STREET NW</td>\n",
       "      <td>WASHINGTON</td>\n",
       "      <td>DC</td>\n",
       "      <td>20009.0</td>\n",
       "      <td>Ward 2</td>\n",
       "      <td>NW</td>\n",
       "    </tr>\n",
       "    <tr>\n",
       "      <th>8</th>\n",
       "      <td>3</td>\n",
       "      <td>1</td>\n",
       "      <td>Warm Cool</td>\n",
       "      <td>Y</td>\n",
       "      <td>7</td>\n",
       "      <td>3</td>\n",
       "      <td>1908.0</td>\n",
       "      <td>2008.0</td>\n",
       "      <td>2.0</td>\n",
       "      <td>2018-05-03</td>\n",
       "      <td>...</td>\n",
       "      <td>Hardwood</td>\n",
       "      <td>2.0</td>\n",
       "      <td>1</td>\n",
       "      <td>1424</td>\n",
       "      <td>1727 SWANN STREET NW</td>\n",
       "      <td>WASHINGTON</td>\n",
       "      <td>DC</td>\n",
       "      <td>20009.0</td>\n",
       "      <td>Ward 2</td>\n",
       "      <td>NW</td>\n",
       "    </tr>\n",
       "  </tbody>\n",
       "</table>\n",
       "<p>5 rows × 26 columns</p>\n",
       "</div>"
      ],
      "text/plain": [
       "   BATHRM  HF_BATHRM           HEAT AC  ROOMS  BEDRM  YR_BUILT  YR_RMDL  \\\n",
       "0       4          0      Warm Cool  Y      8      4    1910.0   1988.0   \n",
       "2       3          1  Hot Water Rad  Y      9      5    1910.0   2009.0   \n",
       "3       3          1  Hot Water Rad  Y      8      5    1900.0   2003.0   \n",
       "7       3          1  Hot Water Rad  Y      8      4    1906.0   2011.0   \n",
       "8       3          1      Warm Cool  Y      7      3    1908.0   2008.0   \n",
       "\n",
       "   STORIES   SALEDATE  ...   INTWALL KITCHENS FIREPLACES LANDAREA  \\\n",
       "0      3.0 2003-11-25  ...  Hardwood      2.0          5     1680   \n",
       "2      3.0 2016-06-21  ...  Hardwood      2.0          4     1680   \n",
       "3      3.0 2006-07-12  ...  Hardwood      2.0          3     1680   \n",
       "7      3.0 2011-09-29  ...  Hardwood      2.0          1     1627   \n",
       "8      2.0 2018-05-03  ...  Hardwood      2.0          1     1424   \n",
       "\n",
       "            FULLADDRESS        CITY STATE  ZIPCODE    WARD  QUADRANT  \n",
       "0  1748 SWANN STREET NW  WASHINGTON    DC  20009.0  Ward 2        NW  \n",
       "2  1744 SWANN STREET NW  WASHINGTON    DC  20009.0  Ward 2        NW  \n",
       "3  1742 SWANN STREET NW  WASHINGTON    DC  20009.0  Ward 2        NW  \n",
       "7  1746 1/2 T STREET NW  WASHINGTON    DC  20009.0  Ward 2        NW  \n",
       "8  1727 SWANN STREET NW  WASHINGTON    DC  20009.0  Ward 2        NW  \n",
       "\n",
       "[5 rows x 26 columns]"
      ]
     },
     "execution_count": 56,
     "metadata": {},
     "output_type": "execute_result"
    }
   ],
   "source": [
    "# display the first 5 rows of the updated \"dfq\" dataset...\n",
    "\n",
    "dfq.head()"
   ]
  },
  {
   "cell_type": "code",
   "execution_count": 57,
   "metadata": {},
   "outputs": [
    {
     "data": {
      "text/html": [
       "<div>\n",
       "<style scoped>\n",
       "    .dataframe tbody tr th:only-of-type {\n",
       "        vertical-align: middle;\n",
       "    }\n",
       "\n",
       "    .dataframe tbody tr th {\n",
       "        vertical-align: top;\n",
       "    }\n",
       "\n",
       "    .dataframe thead th {\n",
       "        text-align: right;\n",
       "    }\n",
       "</style>\n",
       "<table border=\"1\" class=\"dataframe\">\n",
       "  <thead>\n",
       "    <tr style=\"text-align: right;\">\n",
       "      <th></th>\n",
       "      <th>BATHRM</th>\n",
       "      <th>HF_BATHRM</th>\n",
       "      <th>HEAT</th>\n",
       "      <th>AC</th>\n",
       "      <th>ROOMS</th>\n",
       "      <th>BEDRM</th>\n",
       "      <th>YR_BUILT</th>\n",
       "      <th>YR_RMDL</th>\n",
       "      <th>STORIES</th>\n",
       "      <th>SALEDATE</th>\n",
       "      <th>...</th>\n",
       "      <th>KITCHENS</th>\n",
       "      <th>FIREPLACES</th>\n",
       "      <th>LANDAREA</th>\n",
       "      <th>FULLADDRESS</th>\n",
       "      <th>CITY</th>\n",
       "      <th>STATE</th>\n",
       "      <th>ZIPCODE</th>\n",
       "      <th>WARD</th>\n",
       "      <th>QUADRANT</th>\n",
       "      <th>ZSCORE_ROOMS</th>\n",
       "    </tr>\n",
       "  </thead>\n",
       "  <tbody>\n",
       "    <tr>\n",
       "      <th>0</th>\n",
       "      <td>4</td>\n",
       "      <td>0</td>\n",
       "      <td>Warm Cool</td>\n",
       "      <td>Y</td>\n",
       "      <td>8</td>\n",
       "      <td>4</td>\n",
       "      <td>1910.0</td>\n",
       "      <td>1988.0</td>\n",
       "      <td>3.0</td>\n",
       "      <td>2003-11-25</td>\n",
       "      <td>...</td>\n",
       "      <td>2.0</td>\n",
       "      <td>5</td>\n",
       "      <td>1680</td>\n",
       "      <td>1748 SWANN STREET NW</td>\n",
       "      <td>WASHINGTON</td>\n",
       "      <td>DC</td>\n",
       "      <td>20009.0</td>\n",
       "      <td>Ward 2</td>\n",
       "      <td>NW</td>\n",
       "      <td>0.182324</td>\n",
       "    </tr>\n",
       "    <tr>\n",
       "      <th>2</th>\n",
       "      <td>3</td>\n",
       "      <td>1</td>\n",
       "      <td>Hot Water Rad</td>\n",
       "      <td>Y</td>\n",
       "      <td>9</td>\n",
       "      <td>5</td>\n",
       "      <td>1910.0</td>\n",
       "      <td>2009.0</td>\n",
       "      <td>3.0</td>\n",
       "      <td>2016-06-21</td>\n",
       "      <td>...</td>\n",
       "      <td>2.0</td>\n",
       "      <td>4</td>\n",
       "      <td>1680</td>\n",
       "      <td>1744 SWANN STREET NW</td>\n",
       "      <td>WASHINGTON</td>\n",
       "      <td>DC</td>\n",
       "      <td>20009.0</td>\n",
       "      <td>Ward 2</td>\n",
       "      <td>NW</td>\n",
       "      <td>0.611659</td>\n",
       "    </tr>\n",
       "    <tr>\n",
       "      <th>3</th>\n",
       "      <td>3</td>\n",
       "      <td>1</td>\n",
       "      <td>Hot Water Rad</td>\n",
       "      <td>Y</td>\n",
       "      <td>8</td>\n",
       "      <td>5</td>\n",
       "      <td>1900.0</td>\n",
       "      <td>2003.0</td>\n",
       "      <td>3.0</td>\n",
       "      <td>2006-07-12</td>\n",
       "      <td>...</td>\n",
       "      <td>2.0</td>\n",
       "      <td>3</td>\n",
       "      <td>1680</td>\n",
       "      <td>1742 SWANN STREET NW</td>\n",
       "      <td>WASHINGTON</td>\n",
       "      <td>DC</td>\n",
       "      <td>20009.0</td>\n",
       "      <td>Ward 2</td>\n",
       "      <td>NW</td>\n",
       "      <td>0.182324</td>\n",
       "    </tr>\n",
       "    <tr>\n",
       "      <th>7</th>\n",
       "      <td>3</td>\n",
       "      <td>1</td>\n",
       "      <td>Hot Water Rad</td>\n",
       "      <td>Y</td>\n",
       "      <td>8</td>\n",
       "      <td>4</td>\n",
       "      <td>1906.0</td>\n",
       "      <td>2011.0</td>\n",
       "      <td>3.0</td>\n",
       "      <td>2011-09-29</td>\n",
       "      <td>...</td>\n",
       "      <td>2.0</td>\n",
       "      <td>1</td>\n",
       "      <td>1627</td>\n",
       "      <td>1746 1/2 T STREET NW</td>\n",
       "      <td>WASHINGTON</td>\n",
       "      <td>DC</td>\n",
       "      <td>20009.0</td>\n",
       "      <td>Ward 2</td>\n",
       "      <td>NW</td>\n",
       "      <td>0.182324</td>\n",
       "    </tr>\n",
       "    <tr>\n",
       "      <th>8</th>\n",
       "      <td>3</td>\n",
       "      <td>1</td>\n",
       "      <td>Warm Cool</td>\n",
       "      <td>Y</td>\n",
       "      <td>7</td>\n",
       "      <td>3</td>\n",
       "      <td>1908.0</td>\n",
       "      <td>2008.0</td>\n",
       "      <td>2.0</td>\n",
       "      <td>2018-05-03</td>\n",
       "      <td>...</td>\n",
       "      <td>2.0</td>\n",
       "      <td>1</td>\n",
       "      <td>1424</td>\n",
       "      <td>1727 SWANN STREET NW</td>\n",
       "      <td>WASHINGTON</td>\n",
       "      <td>DC</td>\n",
       "      <td>20009.0</td>\n",
       "      <td>Ward 2</td>\n",
       "      <td>NW</td>\n",
       "      <td>0.247012</td>\n",
       "    </tr>\n",
       "  </tbody>\n",
       "</table>\n",
       "<p>5 rows × 27 columns</p>\n",
       "</div>"
      ],
      "text/plain": [
       "   BATHRM  HF_BATHRM           HEAT AC  ROOMS  BEDRM  YR_BUILT  YR_RMDL  \\\n",
       "0       4          0      Warm Cool  Y      8      4    1910.0   1988.0   \n",
       "2       3          1  Hot Water Rad  Y      9      5    1910.0   2009.0   \n",
       "3       3          1  Hot Water Rad  Y      8      5    1900.0   2003.0   \n",
       "7       3          1  Hot Water Rad  Y      8      4    1906.0   2011.0   \n",
       "8       3          1      Warm Cool  Y      7      3    1908.0   2008.0   \n",
       "\n",
       "   STORIES   SALEDATE  ...  KITCHENS FIREPLACES LANDAREA  \\\n",
       "0      3.0 2003-11-25  ...       2.0          5     1680   \n",
       "2      3.0 2016-06-21  ...       2.0          4     1680   \n",
       "3      3.0 2006-07-12  ...       2.0          3     1680   \n",
       "7      3.0 2011-09-29  ...       2.0          1     1627   \n",
       "8      2.0 2018-05-03  ...       2.0          1     1424   \n",
       "\n",
       "            FULLADDRESS        CITY STATE  ZIPCODE    WARD  QUADRANT  \\\n",
       "0  1748 SWANN STREET NW  WASHINGTON    DC  20009.0  Ward 2        NW   \n",
       "2  1744 SWANN STREET NW  WASHINGTON    DC  20009.0  Ward 2        NW   \n",
       "3  1742 SWANN STREET NW  WASHINGTON    DC  20009.0  Ward 2        NW   \n",
       "7  1746 1/2 T STREET NW  WASHINGTON    DC  20009.0  Ward 2        NW   \n",
       "8  1727 SWANN STREET NW  WASHINGTON    DC  20009.0  Ward 2        NW   \n",
       "\n",
       "   ZSCORE_ROOMS  \n",
       "0      0.182324  \n",
       "2      0.611659  \n",
       "3      0.182324  \n",
       "7      0.182324  \n",
       "8      0.247012  \n",
       "\n",
       "[5 rows x 27 columns]"
      ]
     },
     "execution_count": 57,
     "metadata": {},
     "output_type": "execute_result"
    }
   ],
   "source": [
    "# display the first 5 rows of the updated \"dfz\" dataset...\n",
    "\n",
    "dfz.head()"
   ]
  },
  {
   "cell_type": "code",
   "execution_count": null,
   "metadata": {},
   "outputs": [],
   "source": [
    "# before removing the outliers, the \"dfq\" dataset contained 32,979 rows and 26 columns...\n",
    "# after using Interquartile Range (IQR) to remove outliers in the \"ROOMS\" column, the \"dfq\" dataset \n",
    "# contained 32,140 rows and 26 columns...\n",
    "# 839 rows were removed from the original \"dfq\" dataset..."
   ]
  },
  {
   "cell_type": "code",
   "execution_count": null,
   "metadata": {},
   "outputs": [],
   "source": [
    "# in comparing the 2 methods used to remove outliers in the \"ROOMS\" column:\n",
    "# using z-scores: 636 rows were removed...\n",
    "# using Interquartile Range (IQR): 839 rows were removed..."
   ]
  }
 ],
 "metadata": {
  "kernelspec": {
   "display_name": "Python 3",
   "language": "python",
   "name": "python3"
  },
  "language_info": {
   "codemirror_mode": {
    "name": "ipython",
    "version": 3
   },
   "file_extension": ".py",
   "mimetype": "text/x-python",
   "name": "python",
   "nbconvert_exporter": "python",
   "pygments_lexer": "ipython3",
   "version": "3.8.8"
  }
 },
 "nbformat": 4,
 "nbformat_minor": 4
}
